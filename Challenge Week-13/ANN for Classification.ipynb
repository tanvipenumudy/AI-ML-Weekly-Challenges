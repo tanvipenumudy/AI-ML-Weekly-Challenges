{
 "cells": [
  {
   "cell_type": "markdown",
   "metadata": {
    "id": "X3FobpTFCnjg"
   },
   "source": [
    "# Wheat varieties prediction using ANN\n",
    "## Objective: To implement artificial neural network from scratch\n",
    "\n",
    "\n",
    "\n",
    "## Artificial neural network\n",
    "\n",
    "Artificial neural networks are relatively crude electronic networks of neurons based on the neural structure of the brain. They process records one at a time, and learn by comparing their classification of the record (i.e., largely arbitrary) with the known actual classification of the record. The errors from the initial classification of the first record is fed back into the network, and used to modify the networks algorithm for further iterations.\n",
    "\n",
    "A neuron in an artificial neural network is\n",
    "\n",
    "1. A set of input values (xi) and associated weights (wi).\n",
    "\n",
    "2. A function (g) that sums the weights and maps the results to an output (y).\n",
    "\n",
    "### Parameters\n",
    "We can choose the dimensionality (the number of nodes) of the hidden layer. The more nodes we put into the hidden layer the more complex functions we will be able fit. But higher dimensionality comes at a cost. First, more computation is required to make predictions and learn the network parameters. A bigger number of parameters also means we become more prone to overfitting our data.\n",
    "How to choose the size of the hidden layer? While there are some general guidelines and recommendations, it always depends on your specific problem and is more of an art than a science. We will play with the number of nodes in the hidden layer later on and see how it affects our output.\n",
    "\n",
    "\n",
    "\n",
    "\n",
    "\n",
    "\n"
   ]
  },
  {
   "cell_type": "markdown",
   "metadata": {
    "id": "RlhZ_25gDmTR"
   },
   "source": [
    "###Activation function\n",
    "We also need to pick an *activation function* for our hidden layer. The activation function transforms the inputs of the layer into its outputs. A nonlinear activation function is what allows us to fit nonlinear hypotheses. Common chocies for activation functions are [tanh](https://reference.wolfram.com/language/ref/Tanh.html), the [sigmoid function](https://en.wikipedia.org/wiki/Sigmoid_function), or [ReLUs](https://en.wikipedia.org/wiki/Rectifier_(neural_networks). \n",
    "\n",
    "\n",
    "Learning the parameters for our network means finding parameters ($W_1, b_1, W_2, b_2$) that minimize the error on our training data. But how do we define the error? We call the function that measures our error the *loss function*. A common choice with the softmax output is the [cross-entropy loss](https://en.wikipedia.org/wiki/Cross_entropy#Cross-entropy_error_function_and_logistic_regression). If we have $N$ training examples and $C$ classes then the loss for our prediction $\\hat{y}$ with respect to the true labels $y$ is given by:\n",
    "\n",
    "$$\n",
    "\\begin{aligned}\n",
    "L(y,\\hat{y}) = - \\frac{1}{N} \\sum_{n \\in N} \\sum_{i \\in C} y_{n,i} \\log\\hat{y}_{n,i}\n",
    "\\end{aligned}\n",
    "$$\n",
    "\n",
    "Remember that our goal is to find the parameters that minimize our loss function. We can use [gradient descent](http://cs231n.github.io/optimization-1/) to find its minimum. I will implement the most vanilla version of gradient descent, also called batch gradient descent with a fixed learning rate. Variations such as SGD (stochastic gradient descent) or minibatch gradient descent typically perform better in practice. So if you are serious you'll want to use one of these, and ideally you would also [decay the learning rate over time](http://cs231n.github.io/neural-networks-3/#anneal).\n",
    "\n",
    "### Gradient descent\n",
    "As an input, gradient descent needs the gradients (vector of derivatives) of the loss function with respect to our parameters: $\\frac{\\partial{L}}{\\partial{W_1}}$, $\\frac{\\partial{L}}{\\partial{b_1}}$, $\\frac{\\partial{L}}{\\partial{W_2}}$, $\\frac{\\partial{L}}{\\partial{b_2}}$. To calculate these gradients we use the famous *backpropagation algorithm*, which is a way to efficiently calculate the gradients starting from the output. I won't go into detail how backpropagation works, but there are many excellent explanations ([here](http://colah.github.io/posts/2015-08-Backprop/) or [here](http://cs231n.github.io/optimization-2/)) floating around the web.\n",
    "\n",
    "### Backpropagation formula\n",
    "Applying the backpropagation formula we find the following:\n",
    "\n",
    "$$\n",
    "\\begin{aligned}\n",
    "& \\delta_3 = \\hat{y} - y \\\\\n",
    "& \\delta_2 = (1 - \\tanh^2z_1) \\circ \\delta_3W_2^T \\\\\n",
    "& \\frac{\\partial{L}}{\\partial{W_2}} = a_1^T \\delta_3  \\\\\n",
    "& \\frac{\\partial{L}}{\\partial{b_2}} = \\delta_3\\\\\n",
    "& \\frac{\\partial{L}}{\\partial{W_1}} = x^T \\delta_2\\\\\n",
    "& \\frac{\\partial{L}}{\\partial{b_1}} = \\delta_2 \\\\\n",
    "\\end{aligned}\n",
    "$$"
   ]
  },
  {
   "cell_type": "markdown",
   "metadata": {
    "id": "PWJYEzB_Dh8e"
   },
   "source": [
    "## Dataset\n",
    "Measurements of geometrical properties of kernels belonging to three different varieties of wheat. A soft X-ray technique and GRAINS package were used to construct all seven, real-valued attributes.\n",
    "\n",
    "## Attributes\n",
    "1.\tarea A,\n",
    "2.\tperimeter P,\n",
    "3.\tcompactness C = 4*pi*A/P^2,\n",
    "4.\tlength of kernel,\n",
    "5.\twidth of kernel,\n",
    "6.\tasymmetry coefficient\n",
    "7.\tlength of kernel groove.\n",
    "\n",
    "## Target Class\n",
    "Varieties of wheat: Kama, Rosa and Canadian.\n",
    "\n",
    "## Source: https://www.kaggle.com/rwzhang/seeds-dataset\n",
    "\n"
   ]
  },
  {
   "cell_type": "markdown",
   "metadata": {
    "id": "ZN_gXZRbDbUO"
   },
   "source": [
    "## Task 1: Implement Artificial Neural Networks from Scratch\n",
    "1.\tObtain the seeds dataset\n",
    "2.\tApply pre-processing techniques (if any)\n",
    "3.\tDivide dataset into training (70%) and testing (30%) set, respectively.\n",
    "4.\tImplement Artificial Neural Networks from Scratch\n",
    "5.\tTrain your neural model from scratch\n",
    "6.\tEvaluate the training and testing accuracy of your own model\n",
    "\n",
    "## Task 2: Implement SKLEARN’s Artificial Neural Networks\n",
    "1.\tObtain the seeds dataset\n",
    "2.\tApply pre-processing techniques (if any)\n",
    "3.\tDivide dataset into training (70%) and testing (30%) set, respectively.\n",
    "4.\tImplement Artificial Neural Networks using SKLEARN’s library\n",
    "5.\tTrain SKLEARN’s neural model \n",
    "6.\tEvaluate the training and testing accuracy of SKLEARN’s model\n",
    "\n",
    "# Task 3: Play with hyper-parameters\n",
    "1.\tUse SKLEARN’s neural model\n",
    "2.\tEvaluate the impact of various hyper-parameters of neural networks\n",
    "3.\tPlot the results\n",
    "4.\tConclude the experiments by showing the impact of hyper-parameters on neural network"
   ]
  },
  {
   "cell_type": "markdown",
   "metadata": {
    "id": "T9iUOR3hDc-0"
   },
   "source": [
    "###Helpful links: \n",
    "https://machinelearningmastery.com/implement-backpropagation-algorithm-scratch-python/\n",
    "https://medium.com/towards-artificial-intelligence/building-neural-networks-from-scratch-with-python-code-and-math-in-detail-i-536fae5d7bbf\n",
    "https://stackabuse.com/creating-a-neural-network-from-scratch-in-python-multi-class-classification/\n",
    "http://www.wildml.com/2015/09/implementing-a-neural-network-from-scratch/"
   ]
  },
  {
   "cell_type": "markdown",
   "metadata": {
    "id": "u-JpzeOsD6jg"
   },
   "source": [
    "# Additonal work (not considered in evaluation)\n",
    "Instead of batch gradient descent, use minibatch gradient descent ([more info](http://cs231n.github.io/optimization-1/#gd))\n",
    "\n",
    "Use various activation functions"
   ]
  },
  {
   "cell_type": "markdown",
   "metadata": {
    "id": "d9aMK8ze6bUY"
   },
   "source": [
    "##Task 1: Implement Artificial Neural Networks from Scratch\n"
   ]
  },
  {
   "cell_type": "code",
   "execution_count": 6,
   "metadata": {
    "id": "Ti-tdq2M600q"
   },
   "outputs": [],
   "source": [
    "# Load the libraries\n",
    "import pandas as pd\n",
    "import numpy as np\n",
    "from sklearn import preprocessing\n",
    "from sklearn.preprocessing import MinMaxScaler\n",
    "from sklearn.model_selection import train_test_split\n",
    "from sklearn import svm\n",
    "from sklearn.metrics import accuracy_score"
   ]
  },
  {
   "cell_type": "code",
   "execution_count": 21,
   "metadata": {
    "id": "GHFWQz1R6-8x"
   },
   "outputs": [],
   "source": [
    "# Load the dataset \n",
    "# Using Diabetes Dataset for Training and Testing\n",
    "data = pd.read_csv('diabetes_data.csv')"
   ]
  },
  {
   "cell_type": "code",
   "execution_count": 22,
   "metadata": {
    "colab": {
     "base_uri": "https://localhost:8080/",
     "height": 212
    },
    "id": "dIEnw-8GluaW",
    "outputId": "720ac3da-9262-4888-fc3d-2546f4c05976"
   },
   "outputs": [
    {
     "data": {
      "text/html": [
       "<div>\n",
       "<style scoped>\n",
       "    .dataframe tbody tr th:only-of-type {\n",
       "        vertical-align: middle;\n",
       "    }\n",
       "\n",
       "    .dataframe tbody tr th {\n",
       "        vertical-align: top;\n",
       "    }\n",
       "\n",
       "    .dataframe thead th {\n",
       "        text-align: right;\n",
       "    }\n",
       "</style>\n",
       "<table border=\"1\" class=\"dataframe\">\n",
       "  <thead>\n",
       "    <tr style=\"text-align: right;\">\n",
       "      <th></th>\n",
       "      <th>Age</th>\n",
       "      <th>Gender</th>\n",
       "      <th>Polyuria</th>\n",
       "      <th>Polydipsia</th>\n",
       "      <th>sudden weight loss</th>\n",
       "      <th>weakness</th>\n",
       "      <th>Polyphagia</th>\n",
       "      <th>Genital thrush</th>\n",
       "      <th>visual blurring</th>\n",
       "      <th>Itching</th>\n",
       "      <th>Irritability</th>\n",
       "      <th>delayed healing</th>\n",
       "      <th>partial paresis</th>\n",
       "      <th>muscle stiffness</th>\n",
       "      <th>Alopecia</th>\n",
       "      <th>Obesity</th>\n",
       "      <th>class</th>\n",
       "    </tr>\n",
       "  </thead>\n",
       "  <tbody>\n",
       "    <tr>\n",
       "      <th>0</th>\n",
       "      <td>40</td>\n",
       "      <td>Male</td>\n",
       "      <td>No</td>\n",
       "      <td>Yes</td>\n",
       "      <td>No</td>\n",
       "      <td>Yes</td>\n",
       "      <td>No</td>\n",
       "      <td>No</td>\n",
       "      <td>No</td>\n",
       "      <td>Yes</td>\n",
       "      <td>No</td>\n",
       "      <td>Yes</td>\n",
       "      <td>No</td>\n",
       "      <td>Yes</td>\n",
       "      <td>Yes</td>\n",
       "      <td>Yes</td>\n",
       "      <td>Positive</td>\n",
       "    </tr>\n",
       "    <tr>\n",
       "      <th>1</th>\n",
       "      <td>58</td>\n",
       "      <td>Male</td>\n",
       "      <td>No</td>\n",
       "      <td>No</td>\n",
       "      <td>No</td>\n",
       "      <td>Yes</td>\n",
       "      <td>No</td>\n",
       "      <td>No</td>\n",
       "      <td>Yes</td>\n",
       "      <td>No</td>\n",
       "      <td>No</td>\n",
       "      <td>No</td>\n",
       "      <td>Yes</td>\n",
       "      <td>No</td>\n",
       "      <td>Yes</td>\n",
       "      <td>No</td>\n",
       "      <td>Positive</td>\n",
       "    </tr>\n",
       "    <tr>\n",
       "      <th>2</th>\n",
       "      <td>41</td>\n",
       "      <td>Male</td>\n",
       "      <td>Yes</td>\n",
       "      <td>No</td>\n",
       "      <td>No</td>\n",
       "      <td>Yes</td>\n",
       "      <td>Yes</td>\n",
       "      <td>No</td>\n",
       "      <td>No</td>\n",
       "      <td>Yes</td>\n",
       "      <td>No</td>\n",
       "      <td>Yes</td>\n",
       "      <td>No</td>\n",
       "      <td>Yes</td>\n",
       "      <td>Yes</td>\n",
       "      <td>No</td>\n",
       "      <td>Positive</td>\n",
       "    </tr>\n",
       "    <tr>\n",
       "      <th>3</th>\n",
       "      <td>45</td>\n",
       "      <td>Male</td>\n",
       "      <td>No</td>\n",
       "      <td>No</td>\n",
       "      <td>Yes</td>\n",
       "      <td>Yes</td>\n",
       "      <td>Yes</td>\n",
       "      <td>Yes</td>\n",
       "      <td>No</td>\n",
       "      <td>Yes</td>\n",
       "      <td>No</td>\n",
       "      <td>Yes</td>\n",
       "      <td>No</td>\n",
       "      <td>No</td>\n",
       "      <td>No</td>\n",
       "      <td>No</td>\n",
       "      <td>Positive</td>\n",
       "    </tr>\n",
       "    <tr>\n",
       "      <th>4</th>\n",
       "      <td>60</td>\n",
       "      <td>Male</td>\n",
       "      <td>Yes</td>\n",
       "      <td>Yes</td>\n",
       "      <td>Yes</td>\n",
       "      <td>Yes</td>\n",
       "      <td>Yes</td>\n",
       "      <td>No</td>\n",
       "      <td>Yes</td>\n",
       "      <td>Yes</td>\n",
       "      <td>Yes</td>\n",
       "      <td>Yes</td>\n",
       "      <td>Yes</td>\n",
       "      <td>Yes</td>\n",
       "      <td>Yes</td>\n",
       "      <td>Yes</td>\n",
       "      <td>Positive</td>\n",
       "    </tr>\n",
       "  </tbody>\n",
       "</table>\n",
       "</div>"
      ],
      "text/plain": [
       "   Age Gender Polyuria Polydipsia  ... muscle stiffness Alopecia Obesity     class\n",
       "0   40   Male       No        Yes  ...              Yes      Yes     Yes  Positive\n",
       "1   58   Male       No         No  ...               No      Yes      No  Positive\n",
       "2   41   Male      Yes         No  ...              Yes      Yes      No  Positive\n",
       "3   45   Male       No         No  ...               No       No      No  Positive\n",
       "4   60   Male      Yes        Yes  ...              Yes      Yes     Yes  Positive\n",
       "\n",
       "[5 rows x 17 columns]"
      ]
     },
     "execution_count": 22,
     "metadata": {
      "tags": []
     },
     "output_type": "execute_result"
    }
   ],
   "source": [
    "data.head()"
   ]
  },
  {
   "cell_type": "code",
   "execution_count": 23,
   "metadata": {
    "colab": {
     "base_uri": "https://localhost:8080/"
    },
    "id": "yQGOj2QaoHMd",
    "outputId": "b55cbb27-a8d1-4fc4-fa4c-de8c4b97d1f9"
   },
   "outputs": [
    {
     "data": {
      "text/plain": [
       "Positive    320\n",
       "Negative    200\n",
       "Name: class, dtype: int64"
      ]
     },
     "execution_count": 23,
     "metadata": {
      "tags": []
     },
     "output_type": "execute_result"
    }
   ],
   "source": [
    "data['class'].value_counts()"
   ]
  },
  {
   "cell_type": "code",
   "execution_count": 24,
   "metadata": {
    "colab": {
     "base_uri": "https://localhost:8080/"
    },
    "id": "XxEfVyAE7ASj",
    "outputId": "d756ce8d-bd6d-45fc-ab45-1988a31b176a"
   },
   "outputs": [
    {
     "data": {
      "text/plain": [
       "Age                   0\n",
       "Gender                0\n",
       "Polyuria              0\n",
       "Polydipsia            0\n",
       "sudden weight loss    0\n",
       "weakness              0\n",
       "Polyphagia            0\n",
       "Genital thrush        0\n",
       "visual blurring       0\n",
       "Itching               0\n",
       "Irritability          0\n",
       "delayed healing       0\n",
       "partial paresis       0\n",
       "muscle stiffness      0\n",
       "Alopecia              0\n",
       "Obesity               0\n",
       "class                 0\n",
       "dtype: int64"
      ]
     },
     "execution_count": 24,
     "metadata": {
      "tags": []
     },
     "output_type": "execute_result"
    }
   ],
   "source": [
    "# Preprocessing\n",
    "# Encoding categorical variables (if any)\n",
    "# Feature Scaling\n",
    "# Filling missing values (if any)\n",
    "data.isna().sum()"
   ]
  },
  {
   "cell_type": "code",
   "execution_count": 25,
   "metadata": {
    "colab": {
     "base_uri": "https://localhost:8080/"
    },
    "id": "lqgeix6HqUYR",
    "outputId": "99b6c16c-73e9-4dba-eb52-1d2c9a905ec2"
   },
   "outputs": [
    {
     "name": "stdout",
     "output_type": "stream",
     "text": [
      "Index(['Gender', 'Polyuria', 'Polydipsia', 'sudden weight loss', 'weakness',\n",
      "       'Polyphagia', 'Genital thrush', 'visual blurring', 'Itching',\n",
      "       'Irritability', 'delayed healing', 'partial paresis',\n",
      "       'muscle stiffness', 'Alopecia', 'Obesity', 'class'],\n",
      "      dtype='object')\n"
     ]
    }
   ],
   "source": [
    "LE = preprocessing.LabelEncoder()\n",
    "CateList = data.select_dtypes(exclude=\"int64\").columns\n",
    "print(CateList)"
   ]
  },
  {
   "cell_type": "code",
   "execution_count": 26,
   "metadata": {
    "id": "80cljbp3qUiD"
   },
   "outputs": [],
   "source": [
    "for i in CateList:\n",
    "    data[i] = LE.fit_transform(data[i])"
   ]
  },
  {
   "cell_type": "code",
   "execution_count": 27,
   "metadata": {
    "colab": {
     "base_uri": "https://localhost:8080/",
     "height": 212
    },
    "id": "tYKZ-OKcqheK",
    "outputId": "d30cd02b-f34a-479c-d6d0-b3877e4de7ea"
   },
   "outputs": [
    {
     "data": {
      "text/html": [
       "<div>\n",
       "<style scoped>\n",
       "    .dataframe tbody tr th:only-of-type {\n",
       "        vertical-align: middle;\n",
       "    }\n",
       "\n",
       "    .dataframe tbody tr th {\n",
       "        vertical-align: top;\n",
       "    }\n",
       "\n",
       "    .dataframe thead th {\n",
       "        text-align: right;\n",
       "    }\n",
       "</style>\n",
       "<table border=\"1\" class=\"dataframe\">\n",
       "  <thead>\n",
       "    <tr style=\"text-align: right;\">\n",
       "      <th></th>\n",
       "      <th>Age</th>\n",
       "      <th>Gender</th>\n",
       "      <th>Polyuria</th>\n",
       "      <th>Polydipsia</th>\n",
       "      <th>sudden weight loss</th>\n",
       "      <th>weakness</th>\n",
       "      <th>Polyphagia</th>\n",
       "      <th>Genital thrush</th>\n",
       "      <th>visual blurring</th>\n",
       "      <th>Itching</th>\n",
       "      <th>Irritability</th>\n",
       "      <th>delayed healing</th>\n",
       "      <th>partial paresis</th>\n",
       "      <th>muscle stiffness</th>\n",
       "      <th>Alopecia</th>\n",
       "      <th>Obesity</th>\n",
       "      <th>class</th>\n",
       "    </tr>\n",
       "  </thead>\n",
       "  <tbody>\n",
       "    <tr>\n",
       "      <th>0</th>\n",
       "      <td>40</td>\n",
       "      <td>1</td>\n",
       "      <td>0</td>\n",
       "      <td>1</td>\n",
       "      <td>0</td>\n",
       "      <td>1</td>\n",
       "      <td>0</td>\n",
       "      <td>0</td>\n",
       "      <td>0</td>\n",
       "      <td>1</td>\n",
       "      <td>0</td>\n",
       "      <td>1</td>\n",
       "      <td>0</td>\n",
       "      <td>1</td>\n",
       "      <td>1</td>\n",
       "      <td>1</td>\n",
       "      <td>1</td>\n",
       "    </tr>\n",
       "    <tr>\n",
       "      <th>1</th>\n",
       "      <td>58</td>\n",
       "      <td>1</td>\n",
       "      <td>0</td>\n",
       "      <td>0</td>\n",
       "      <td>0</td>\n",
       "      <td>1</td>\n",
       "      <td>0</td>\n",
       "      <td>0</td>\n",
       "      <td>1</td>\n",
       "      <td>0</td>\n",
       "      <td>0</td>\n",
       "      <td>0</td>\n",
       "      <td>1</td>\n",
       "      <td>0</td>\n",
       "      <td>1</td>\n",
       "      <td>0</td>\n",
       "      <td>1</td>\n",
       "    </tr>\n",
       "    <tr>\n",
       "      <th>2</th>\n",
       "      <td>41</td>\n",
       "      <td>1</td>\n",
       "      <td>1</td>\n",
       "      <td>0</td>\n",
       "      <td>0</td>\n",
       "      <td>1</td>\n",
       "      <td>1</td>\n",
       "      <td>0</td>\n",
       "      <td>0</td>\n",
       "      <td>1</td>\n",
       "      <td>0</td>\n",
       "      <td>1</td>\n",
       "      <td>0</td>\n",
       "      <td>1</td>\n",
       "      <td>1</td>\n",
       "      <td>0</td>\n",
       "      <td>1</td>\n",
       "    </tr>\n",
       "    <tr>\n",
       "      <th>3</th>\n",
       "      <td>45</td>\n",
       "      <td>1</td>\n",
       "      <td>0</td>\n",
       "      <td>0</td>\n",
       "      <td>1</td>\n",
       "      <td>1</td>\n",
       "      <td>1</td>\n",
       "      <td>1</td>\n",
       "      <td>0</td>\n",
       "      <td>1</td>\n",
       "      <td>0</td>\n",
       "      <td>1</td>\n",
       "      <td>0</td>\n",
       "      <td>0</td>\n",
       "      <td>0</td>\n",
       "      <td>0</td>\n",
       "      <td>1</td>\n",
       "    </tr>\n",
       "    <tr>\n",
       "      <th>4</th>\n",
       "      <td>60</td>\n",
       "      <td>1</td>\n",
       "      <td>1</td>\n",
       "      <td>1</td>\n",
       "      <td>1</td>\n",
       "      <td>1</td>\n",
       "      <td>1</td>\n",
       "      <td>0</td>\n",
       "      <td>1</td>\n",
       "      <td>1</td>\n",
       "      <td>1</td>\n",
       "      <td>1</td>\n",
       "      <td>1</td>\n",
       "      <td>1</td>\n",
       "      <td>1</td>\n",
       "      <td>1</td>\n",
       "      <td>1</td>\n",
       "    </tr>\n",
       "  </tbody>\n",
       "</table>\n",
       "</div>"
      ],
      "text/plain": [
       "   Age  Gender  Polyuria  ...  Alopecia  Obesity  class\n",
       "0   40       1         0  ...         1        1      1\n",
       "1   58       1         0  ...         1        0      1\n",
       "2   41       1         1  ...         1        0      1\n",
       "3   45       1         0  ...         0        0      1\n",
       "4   60       1         1  ...         1        1      1\n",
       "\n",
       "[5 rows x 17 columns]"
      ]
     },
     "execution_count": 27,
     "metadata": {
      "tags": []
     },
     "output_type": "execute_result"
    }
   ],
   "source": [
    "data.head()"
   ]
  },
  {
   "cell_type": "code",
   "execution_count": 28,
   "metadata": {
    "id": "yhndT57UmFfA"
   },
   "outputs": [],
   "source": [
    "df = data.iloc[:,:-1]\n",
    "mm = MinMaxScaler()\n",
    "df[:]= mm.fit_transform(df[:])"
   ]
  },
  {
   "cell_type": "code",
   "execution_count": 29,
   "metadata": {
    "colab": {
     "base_uri": "https://localhost:8080/",
     "height": 212
    },
    "id": "Ap8BjsAzmNc1",
    "outputId": "1a862fcb-750f-4f5c-ecf6-c49bf2ae5c67"
   },
   "outputs": [
    {
     "data": {
      "text/html": [
       "<div>\n",
       "<style scoped>\n",
       "    .dataframe tbody tr th:only-of-type {\n",
       "        vertical-align: middle;\n",
       "    }\n",
       "\n",
       "    .dataframe tbody tr th {\n",
       "        vertical-align: top;\n",
       "    }\n",
       "\n",
       "    .dataframe thead th {\n",
       "        text-align: right;\n",
       "    }\n",
       "</style>\n",
       "<table border=\"1\" class=\"dataframe\">\n",
       "  <thead>\n",
       "    <tr style=\"text-align: right;\">\n",
       "      <th></th>\n",
       "      <th>Age</th>\n",
       "      <th>Gender</th>\n",
       "      <th>Polyuria</th>\n",
       "      <th>Polydipsia</th>\n",
       "      <th>sudden weight loss</th>\n",
       "      <th>weakness</th>\n",
       "      <th>Polyphagia</th>\n",
       "      <th>Genital thrush</th>\n",
       "      <th>visual blurring</th>\n",
       "      <th>Itching</th>\n",
       "      <th>Irritability</th>\n",
       "      <th>delayed healing</th>\n",
       "      <th>partial paresis</th>\n",
       "      <th>muscle stiffness</th>\n",
       "      <th>Alopecia</th>\n",
       "      <th>Obesity</th>\n",
       "    </tr>\n",
       "  </thead>\n",
       "  <tbody>\n",
       "    <tr>\n",
       "      <th>0</th>\n",
       "      <td>0.324324</td>\n",
       "      <td>1.0</td>\n",
       "      <td>0.0</td>\n",
       "      <td>1.0</td>\n",
       "      <td>0.0</td>\n",
       "      <td>1.0</td>\n",
       "      <td>0.0</td>\n",
       "      <td>0.0</td>\n",
       "      <td>0.0</td>\n",
       "      <td>1.0</td>\n",
       "      <td>0.0</td>\n",
       "      <td>1.0</td>\n",
       "      <td>0.0</td>\n",
       "      <td>1.0</td>\n",
       "      <td>1.0</td>\n",
       "      <td>1.0</td>\n",
       "    </tr>\n",
       "    <tr>\n",
       "      <th>1</th>\n",
       "      <td>0.567568</td>\n",
       "      <td>1.0</td>\n",
       "      <td>0.0</td>\n",
       "      <td>0.0</td>\n",
       "      <td>0.0</td>\n",
       "      <td>1.0</td>\n",
       "      <td>0.0</td>\n",
       "      <td>0.0</td>\n",
       "      <td>1.0</td>\n",
       "      <td>0.0</td>\n",
       "      <td>0.0</td>\n",
       "      <td>0.0</td>\n",
       "      <td>1.0</td>\n",
       "      <td>0.0</td>\n",
       "      <td>1.0</td>\n",
       "      <td>0.0</td>\n",
       "    </tr>\n",
       "    <tr>\n",
       "      <th>2</th>\n",
       "      <td>0.337838</td>\n",
       "      <td>1.0</td>\n",
       "      <td>1.0</td>\n",
       "      <td>0.0</td>\n",
       "      <td>0.0</td>\n",
       "      <td>1.0</td>\n",
       "      <td>1.0</td>\n",
       "      <td>0.0</td>\n",
       "      <td>0.0</td>\n",
       "      <td>1.0</td>\n",
       "      <td>0.0</td>\n",
       "      <td>1.0</td>\n",
       "      <td>0.0</td>\n",
       "      <td>1.0</td>\n",
       "      <td>1.0</td>\n",
       "      <td>0.0</td>\n",
       "    </tr>\n",
       "    <tr>\n",
       "      <th>3</th>\n",
       "      <td>0.391892</td>\n",
       "      <td>1.0</td>\n",
       "      <td>0.0</td>\n",
       "      <td>0.0</td>\n",
       "      <td>1.0</td>\n",
       "      <td>1.0</td>\n",
       "      <td>1.0</td>\n",
       "      <td>1.0</td>\n",
       "      <td>0.0</td>\n",
       "      <td>1.0</td>\n",
       "      <td>0.0</td>\n",
       "      <td>1.0</td>\n",
       "      <td>0.0</td>\n",
       "      <td>0.0</td>\n",
       "      <td>0.0</td>\n",
       "      <td>0.0</td>\n",
       "    </tr>\n",
       "    <tr>\n",
       "      <th>4</th>\n",
       "      <td>0.594595</td>\n",
       "      <td>1.0</td>\n",
       "      <td>1.0</td>\n",
       "      <td>1.0</td>\n",
       "      <td>1.0</td>\n",
       "      <td>1.0</td>\n",
       "      <td>1.0</td>\n",
       "      <td>0.0</td>\n",
       "      <td>1.0</td>\n",
       "      <td>1.0</td>\n",
       "      <td>1.0</td>\n",
       "      <td>1.0</td>\n",
       "      <td>1.0</td>\n",
       "      <td>1.0</td>\n",
       "      <td>1.0</td>\n",
       "      <td>1.0</td>\n",
       "    </tr>\n",
       "  </tbody>\n",
       "</table>\n",
       "</div>"
      ],
      "text/plain": [
       "        Age  Gender  Polyuria  ...  muscle stiffness  Alopecia  Obesity\n",
       "0  0.324324     1.0       0.0  ...               1.0       1.0      1.0\n",
       "1  0.567568     1.0       0.0  ...               0.0       1.0      0.0\n",
       "2  0.337838     1.0       1.0  ...               1.0       1.0      0.0\n",
       "3  0.391892     1.0       0.0  ...               0.0       0.0      0.0\n",
       "4  0.594595     1.0       1.0  ...               1.0       1.0      1.0\n",
       "\n",
       "[5 rows x 16 columns]"
      ]
     },
     "execution_count": 29,
     "metadata": {
      "tags": []
     },
     "output_type": "execute_result"
    }
   ],
   "source": [
    "df.head()"
   ]
  },
  {
   "cell_type": "code",
   "execution_count": 30,
   "metadata": {
    "colab": {
     "base_uri": "https://localhost:8080/"
    },
    "id": "w9YAXm8H7C9L",
    "outputId": "5dd6d5ce-b8b8-407d-d575-59002bb54b07"
   },
   "outputs": [
    {
     "name": "stdout",
     "output_type": "stream",
     "text": [
      "(520, 16) (520,)\n"
     ]
    }
   ],
   "source": [
    "# Divide the dataset to training (70 %) and testing set (30 %)\n",
    "X = df.values\n",
    "y = data['class']\n",
    "print(X.shape, y.shape)"
   ]
  },
  {
   "cell_type": "code",
   "execution_count": 32,
   "metadata": {
    "id": "r5LTU_sjqppa"
   },
   "outputs": [],
   "source": [
    "X_train, X_test, y_train, y_test = train_test_split(X, y, test_size = 0.30, random_state = 123)"
   ]
  },
  {
   "cell_type": "code",
   "execution_count": 33,
   "metadata": {
    "id": "_FzXoWn1nI1E"
   },
   "outputs": [],
   "source": [
    "# ANN Code from Scratch\n",
    "# Activation Functions\n",
    "\n",
    "def tanh(x, derivative=False):\n",
    "    if derivative:\n",
    "        1-x**2\n",
    "    return np.tanh(x)\n",
    "\n",
    "def sigmoid(x, derivative=False):\n",
    "    if derivative:\n",
    "        return x*(1-x)\n",
    "    return 1/(1+np.exp(-x))\n",
    "\n",
    "def mse(y_pred, y, derivative=False):\n",
    "    if derivative:\n",
    "        return y_pred*(y_pred-y)\n",
    "    return 0.5*(y_pred-y)**2"
   ]
  },
  {
   "cell_type": "code",
   "execution_count": 34,
   "metadata": {
    "id": "udm80TnUnI-b"
   },
   "outputs": [],
   "source": [
    "# Layers\n",
    "class Layer:\n",
    "    def __init__(self, weights_shape, previous_result=None):\n",
    "        self.previous_result = previous_result\n",
    "        self.weights = self.init_weights(weights_shape)\n",
    "        self.out = None\n",
    "        self.bias = np.random.uniform(-1,1)\n",
    "        \n",
    "    def init_weights(self, weights_shape):\n",
    "        return np.random.uniform(-1,1, weights_shape)\n",
    "    \n",
    "    def compute_output(self, previous_result, activation_function):\n",
    "        self.previous_result = previous_result\n",
    "        self.out = activation_function(self.previous_result.dot(self.weights) + self.bias)"
   ]
  },
  {
   "cell_type": "code",
   "execution_count": 35,
   "metadata": {
    "id": "ZogPFLlinb9y"
   },
   "outputs": [],
   "source": [
    "class ANN:\n",
    "    def __init__(self, input_values, output_values, learning_rate=1e-1, activation_function=sigmoid):\n",
    "        self.input_values = input_values\n",
    "        self.layers = []\n",
    "        self.output_values = output_values\n",
    "        self.lr = learning_rate\n",
    "        self.activation_function = activation_function\n",
    "            \n",
    "    def add_layer(self, nb_nodes):\n",
    "        if len(self.layers)==0:\n",
    "            weights_shape = (self.input_values.shape[1], nb_nodes)\n",
    "            previous_result = self.input_values\n",
    "            layer = Layer(weights_shape, previous_result)\n",
    "        else:\n",
    "            weights_shape = (self.layers[-1].weights.shape[1], nb_nodes)\n",
    "            layer = Layer(weights_shape, self.layers[-1].out)\n",
    "        self.layers.append(layer)\n",
    "        \n",
    "    def feed_forward(self):\n",
    "        previous_result = self.layers[0].previous_result\n",
    "        for layer in self.layers:\n",
    "            layer.compute_output(previous_result, self.activation_function)\n",
    "            previous_result = layer.out\n",
    "    \n",
    "    def back_prop(self):\n",
    "        previous_layer = last_layer = self.layers[-1]\n",
    "        d = mse(last_layer.out, self.output_values, True) * self.activation_function(last_layer.out, True)\n",
    "        last_layer.weights -= self.lr * last_layer.previous_result.T.dot(d)\n",
    "        last_layer.bias -= self.lr * np.mean(d)\n",
    "        for layer in np.flip(self.layers, axis=0)[1:]:\n",
    "            d = d.dot(previous_layer.weights.T) * self.activation_function(layer.out, True)\n",
    "            layer.weights -= self.lr * layer.previous_result.T.dot(d)\n",
    "            layer.bias -= self.lr * np.mean(d)\n",
    "            previous_layer = layer\n",
    "        \n",
    "    def train(self, nb_epochs=65000):\n",
    "        self.layers = np.array(self.layers)\n",
    "        error_list = []\n",
    "        for i in range(nb_epochs):\n",
    "            self.feed_forward()\n",
    "            self.back_prop()\n",
    "            error_list.append(np.mean(mse(self.layers[-1].out, self.output_values)))\n",
    "        return error_list\n",
    "\n",
    "    def predict(self, input_values):\n",
    "        previous_result = np.array(input_values)\n",
    "        for layer in self.layers:\n",
    "            layer.compute_output(previous_result, self.activation_function)\n",
    "            previous_result = layer.out\n",
    "        return previous_result"
   ]
  },
  {
   "cell_type": "code",
   "execution_count": 38,
   "metadata": {
    "id": "Y5DMW1puncGF"
   },
   "outputs": [],
   "source": [
    "# Train your own ANN model\n",
    "ann = ANN(X_train, y_train, learning_rate=1e-1, activation_function=sigmoid)\n",
    "ann.add_layer(3)\n",
    "ann.add_layer(1)"
   ]
  },
  {
   "cell_type": "code",
   "execution_count": 46,
   "metadata": {
    "id": "exW8ef4l9Hr_"
   },
   "outputs": [],
   "source": [
    "# Test your own ANN model and evaluate performance in terms of accuracy\n",
    "pred = np.around(ann.predict(X_test))\n",
    "pred1 = np.around(ann.predict(X_train))"
   ]
  },
  {
   "cell_type": "code",
   "execution_count": 47,
   "metadata": {
    "id": "osFqCg2qrAaR"
   },
   "outputs": [],
   "source": [
    "acc = accuracy_score(y_test, pred)\n",
    "acc1 = accuracy_score(y_train, pred1)"
   ]
  },
  {
   "cell_type": "code",
   "execution_count": 48,
   "metadata": {
    "colab": {
     "base_uri": "https://localhost:8080/"
    },
    "id": "Im-X-80yrAdJ",
    "outputId": "60b4148d-6313-49bf-93f8-5ac91ec89ee1"
   },
   "outputs": [
    {
     "name": "stdout",
     "output_type": "stream",
     "text": [
      "Training Accuracy:  0.8691208791208791\n",
      "Testing Accuracy:  0.6974358974358974\n"
     ]
    }
   ],
   "source": [
    "print(\"Training Accuracy: \",acc1)\n",
    "print(\"Testing Accuracy: \",acc)"
   ]
  },
  {
   "cell_type": "markdown",
   "metadata": {
    "id": "lJDNjH1c6g6b"
   },
   "source": [
    "##Task 2: Implement SKLEARN’s Artificial Neural Networks"
   ]
  },
  {
   "cell_type": "code",
   "execution_count": 49,
   "metadata": {
    "colab": {
     "base_uri": "https://localhost:8080/"
    },
    "id": "yuA3ZOMjtCR8",
    "outputId": "774950e3-2c12-4676-d8b7-27d87e6834ca"
   },
   "outputs": [
    {
     "name": "stdout",
     "output_type": "stream",
     "text": [
      "(364, 16) (364,)\n",
      "(156, 16) (156,)\n"
     ]
    }
   ],
   "source": [
    "# Obtain the training and testing set\n",
    "print(X_train.shape, y_train.shape)\n",
    "print(X_test.shape, y_test.shape)"
   ]
  },
  {
   "cell_type": "code",
   "execution_count": 51,
   "metadata": {
    "id": "bram9UnKstzt"
   },
   "outputs": [],
   "source": [
    "from sklearn.neural_network import MLPClassifier"
   ]
  },
  {
   "cell_type": "code",
   "execution_count": 53,
   "metadata": {
    "colab": {
     "base_uri": "https://localhost:8080/"
    },
    "id": "V-9wh8xW9Ok3",
    "outputId": "8c80abdf-81d6-460c-f236-1d6859120649"
   },
   "outputs": [
    {
     "name": "stderr",
     "output_type": "stream",
     "text": [
      "/usr/local/lib/python3.6/dist-packages/sklearn/neural_network/_multilayer_perceptron.py:571: ConvergenceWarning: Stochastic Optimizer: Maximum iterations (300) reached and the optimization hasn't converged yet.\n",
      "  % self.max_iter, ConvergenceWarning)\n"
     ]
    },
    {
     "data": {
      "text/plain": [
       "array([[4.21015711e-06, 9.99995790e-01],\n",
       "       [8.62896088e-01, 1.37103912e-01],\n",
       "       [9.97198554e-01, 2.80144551e-03],\n",
       "       [8.01181711e-03, 9.91988183e-01],\n",
       "       [9.98672871e-01, 1.32712942e-03],\n",
       "       [9.47255653e-01, 5.27443475e-02],\n",
       "       [8.01181711e-03, 9.91988183e-01],\n",
       "       [2.41328006e-01, 7.58671994e-01],\n",
       "       [3.68915933e-04, 9.99631084e-01],\n",
       "       [9.98672871e-01, 1.32712942e-03],\n",
       "       [9.37194033e-04, 9.99062806e-01],\n",
       "       [3.97742200e-06, 9.99996023e-01],\n",
       "       [6.71368141e-06, 9.99993286e-01],\n",
       "       [4.92665725e-04, 9.99507334e-01],\n",
       "       [9.93465915e-01, 6.53408535e-03],\n",
       "       [1.41274601e-02, 9.85872540e-01],\n",
       "       [5.11365200e-03, 9.94886348e-01],\n",
       "       [6.71368141e-06, 9.99993286e-01],\n",
       "       [9.84723227e-01, 1.52767730e-02],\n",
       "       [1.33940870e-03, 9.98660591e-01],\n",
       "       [9.92901965e-01, 7.09803499e-03],\n",
       "       [1.52431595e-05, 9.99984757e-01],\n",
       "       [9.82331586e-01, 1.76684138e-02],\n",
       "       [3.61224763e-06, 9.99996388e-01],\n",
       "       [1.75983655e-03, 9.98240163e-01],\n",
       "       [9.82331586e-01, 1.76684138e-02],\n",
       "       [3.54916432e-01, 6.45083568e-01],\n",
       "       [5.44625065e-03, 9.94553749e-01],\n",
       "       [2.12505089e-05, 9.99978749e-01],\n",
       "       [4.01783898e-04, 9.99598216e-01],\n",
       "       [5.19636910e-06, 9.99994804e-01],\n",
       "       [9.82331586e-01, 1.76684138e-02],\n",
       "       [9.82331586e-01, 1.76684138e-02],\n",
       "       [4.94564934e-02, 9.50543507e-01],\n",
       "       [9.36864276e-01, 6.31357238e-02],\n",
       "       [8.55412219e-06, 9.99991446e-01],\n",
       "       [1.22389121e-04, 9.99877611e-01],\n",
       "       [1.28520325e-04, 9.99871480e-01],\n",
       "       [5.04763291e-01, 4.95236709e-01],\n",
       "       [6.65273662e-04, 9.99334726e-01],\n",
       "       [6.17123329e-02, 9.38287667e-01],\n",
       "       [9.92533488e-01, 7.46651176e-03],\n",
       "       [4.22882673e-04, 9.99577117e-01],\n",
       "       [7.96068197e-04, 9.99203932e-01],\n",
       "       [4.31404946e-04, 9.99568595e-01],\n",
       "       [1.30955351e-04, 9.99869045e-01],\n",
       "       [7.90427235e-06, 9.99992096e-01],\n",
       "       [1.56839065e-02, 9.84316094e-01],\n",
       "       [6.81966809e-06, 9.99993180e-01],\n",
       "       [4.66709752e-05, 9.99953329e-01],\n",
       "       [8.73108025e-01, 1.26891975e-01],\n",
       "       [9.84380150e-01, 1.56198499e-02],\n",
       "       [2.44339101e-05, 9.99975566e-01],\n",
       "       [9.93862972e-01, 6.13702830e-03],\n",
       "       [7.82575740e-05, 9.99921742e-01],\n",
       "       [1.48187562e-04, 9.99851812e-01],\n",
       "       [1.79344256e-04, 9.99820656e-01],\n",
       "       [2.43850232e-04, 9.99756150e-01],\n",
       "       [7.44993632e-01, 2.55006368e-01],\n",
       "       [9.99041944e-01, 9.58055902e-04],\n",
       "       [9.59427457e-06, 9.99990406e-01],\n",
       "       [9.77749786e-04, 9.99022250e-01],\n",
       "       [9.35676584e-03, 9.90643234e-01],\n",
       "       [9.84523680e-01, 1.54763198e-02],\n",
       "       [9.92901965e-01, 7.09803499e-03],\n",
       "       [2.03405296e-01, 7.96594704e-01],\n",
       "       [2.52496444e-02, 9.74750356e-01],\n",
       "       [4.21015711e-06, 9.99995790e-01],\n",
       "       [6.35144583e-01, 3.64855417e-01],\n",
       "       [2.90563249e-04, 9.99709437e-01],\n",
       "       [9.44345391e-05, 9.99905565e-01],\n",
       "       [7.74261539e-01, 2.25738461e-01],\n",
       "       [9.96259609e-01, 3.74039150e-03],\n",
       "       [5.19636910e-06, 9.99994804e-01],\n",
       "       [5.39656619e-06, 9.99994603e-01],\n",
       "       [8.70343426e-01, 1.29656574e-01],\n",
       "       [5.98774128e-02, 9.40122587e-01],\n",
       "       [9.93256594e-01, 6.74340646e-03],\n",
       "       [9.92533488e-01, 7.46651176e-03],\n",
       "       [9.92901965e-01, 7.09803499e-03],\n",
       "       [5.44625065e-03, 9.94553749e-01],\n",
       "       [2.72219076e-01, 7.27780924e-01],\n",
       "       [9.84723227e-01, 1.52767730e-02],\n",
       "       [9.03327708e-01, 9.66722918e-02],\n",
       "       [8.62896088e-01, 1.37103912e-01],\n",
       "       [8.35742121e-06, 9.99991643e-01],\n",
       "       [2.98743579e-04, 9.99701256e-01],\n",
       "       [1.05178764e-04, 9.99894821e-01],\n",
       "       [9.86758327e-01, 1.32416734e-02],\n",
       "       [5.67021367e-01, 4.32978633e-01],\n",
       "       [1.90393739e-03, 9.98096063e-01],\n",
       "       [9.22313413e-01, 7.76865871e-02],\n",
       "       [9.85393702e-01, 1.46062982e-02],\n",
       "       [9.89441709e-01, 1.05582915e-02],\n",
       "       [5.74004910e-04, 9.99425995e-01],\n",
       "       [9.96708388e-01, 3.29161177e-03],\n",
       "       [9.93455758e-01, 6.54424166e-03],\n",
       "       [7.43404679e-04, 9.99256595e-01],\n",
       "       [9.44345391e-05, 9.99905565e-01],\n",
       "       [9.31476770e-01, 6.85232298e-02],\n",
       "       [7.44993632e-01, 2.55006368e-01],\n",
       "       [3.68915933e-04, 9.99631084e-01],\n",
       "       [5.67021367e-01, 4.32978633e-01],\n",
       "       [9.47255653e-01, 5.27443475e-02],\n",
       "       [5.44625065e-03, 9.94553749e-01],\n",
       "       [9.84723227e-01, 1.52767730e-02],\n",
       "       [4.68406852e-06, 9.99995316e-01],\n",
       "       [7.90427235e-06, 9.99992096e-01],\n",
       "       [9.93390028e-01, 6.60997202e-03],\n",
       "       [1.57704666e-05, 9.99984230e-01],\n",
       "       [9.96746846e-01, 3.25315415e-03],\n",
       "       [4.53960073e-02, 9.54603993e-01],\n",
       "       [1.51246432e-05, 9.99984875e-01],\n",
       "       [6.71368141e-06, 9.99993286e-01],\n",
       "       [2.16257694e-06, 9.99997837e-01],\n",
       "       [9.94230432e-01, 5.76956822e-03],\n",
       "       [1.12784155e-03, 9.98872158e-01],\n",
       "       [9.92901965e-01, 7.09803499e-03],\n",
       "       [7.18431292e-06, 9.99992816e-01],\n",
       "       [6.85406409e-05, 9.99931459e-01],\n",
       "       [6.88151170e-02, 9.31184883e-01],\n",
       "       [3.82253204e-05, 9.99961775e-01],\n",
       "       [9.92533488e-01, 7.46651176e-03],\n",
       "       [9.44345391e-05, 9.99905565e-01],\n",
       "       [8.62896088e-01, 1.37103912e-01],\n",
       "       [9.92241276e-01, 7.75872378e-03],\n",
       "       [1.51246432e-05, 9.99984875e-01],\n",
       "       [9.31476770e-01, 6.85232298e-02],\n",
       "       [2.17869920e-02, 9.78213008e-01],\n",
       "       [9.93465915e-01, 6.53408535e-03],\n",
       "       [9.79498145e-01, 2.05018548e-02],\n",
       "       [8.51140447e-01, 1.48859553e-01],\n",
       "       [9.92901965e-01, 7.09803499e-03],\n",
       "       [8.78242770e-01, 1.21757230e-01],\n",
       "       [9.94265550e-01, 5.73445046e-03],\n",
       "       [2.11800339e-03, 9.97881997e-01],\n",
       "       [2.32671180e-04, 9.99767329e-01],\n",
       "       [5.08048757e-02, 9.49195124e-01],\n",
       "       [3.47334499e-05, 9.99965267e-01],\n",
       "       [4.81233273e-01, 5.18766727e-01],\n",
       "       [9.79498145e-01, 2.05018548e-02],\n",
       "       [8.87489659e-01, 1.12510341e-01],\n",
       "       [9.92901965e-01, 7.09803499e-03],\n",
       "       [9.98672871e-01, 1.32712942e-03],\n",
       "       [9.62577301e-01, 3.74226988e-02],\n",
       "       [7.82575740e-05, 9.99921742e-01],\n",
       "       [7.09429475e-05, 9.99929057e-01],\n",
       "       [4.15476178e-05, 9.99958452e-01],\n",
       "       [9.92901965e-01, 7.09803499e-03],\n",
       "       [2.37178703e-03, 9.97628213e-01],\n",
       "       [8.12709340e-03, 9.91872907e-01],\n",
       "       [9.92241276e-01, 7.75872378e-03],\n",
       "       [5.03984470e-01, 4.96015530e-01],\n",
       "       [7.05773550e-01, 2.94226450e-01],\n",
       "       [9.59427457e-06, 9.99990406e-01],\n",
       "       [9.44849430e-01, 5.51505696e-02]])"
      ]
     },
     "execution_count": 53,
     "metadata": {
      "tags": []
     },
     "output_type": "execute_result"
    }
   ],
   "source": [
    "# Build SKLEARN's ANN model\n",
    "clf = MLPClassifier(random_state=1, max_iter=300).fit(X_train, y_train)\n",
    "clf.predict_proba(X_test)"
   ]
  },
  {
   "cell_type": "code",
   "execution_count": 54,
   "metadata": {
    "colab": {
     "base_uri": "https://localhost:8080/"
    },
    "id": "xlkoO-AwtGQT",
    "outputId": "150e73f3-3a4b-440a-8fc0-e5f5c5df0176"
   },
   "outputs": [
    {
     "data": {
      "text/plain": [
       "0.9487179487179487"
      ]
     },
     "execution_count": 54,
     "metadata": {
      "tags": []
     },
     "output_type": "execute_result"
    }
   ],
   "source": [
    "clf.score(X_test, y_test)"
   ]
  },
  {
   "cell_type": "markdown",
   "metadata": {
    "id": "Ku45re9n2x9L"
   },
   "source": []
  },
  {
   "cell_type": "markdown",
   "metadata": {
    "id": "9x7jKz446syl"
   },
   "source": [
    "# Task 3: Play with hyper-parameters\n"
   ]
  },
  {
   "cell_type": "markdown",
   "metadata": {
    "id": "kaDXM9dM6unb"
   },
   "source": [
    "1.\tUse SKLEARN’s neural model\n",
    "2.\tEvaluate the impact of various hyper-parameters of neural networks\n",
    "3.\tPlot the results\n",
    "4.\tConclude the experiments by showing the impact of hyper-parameters on neural network"
   ]
  },
  {
   "cell_type": "code",
   "execution_count": 122,
   "metadata": {
    "colab": {
     "base_uri": "https://localhost:8080/"
    },
    "id": "tDOXqn0T3kNQ",
    "outputId": "3bff61bb-5346-4d11-9fd3-e13c4e6fe8ad"
   },
   "outputs": [
    {
     "name": "stdout",
     "output_type": "stream",
     "text": [
      "Training Accuracy 0.9835164835164835\n",
      "Testing Accuracy 0.9487179487179487\n"
     ]
    },
    {
     "name": "stderr",
     "output_type": "stream",
     "text": [
      "/usr/local/lib/python3.6/dist-packages/sklearn/neural_network/_multilayer_perceptron.py:571: ConvergenceWarning: Stochastic Optimizer: Maximum iterations (300) reached and the optimization hasn't converged yet.\n",
      "  % self.max_iter, ConvergenceWarning)\n"
     ]
    }
   ],
   "source": [
    "clf = MLPClassifier(random_state=1, max_iter=300).fit(X_train, y_train)\n",
    "print('Training Accuracy', clf.score(X_train, y_train))\n",
    "print('Testing Accuracy', clf.score(X_test, y_test))"
   ]
  },
  {
   "cell_type": "code",
   "execution_count": 110,
   "metadata": {
    "colab": {
     "base_uri": "https://localhost:8080/"
    },
    "id": "umGC_UywtRkU",
    "outputId": "ec0f5f79-1253-49e9-9246-23fc8cc2e5fe"
   },
   "outputs": [
    {
     "name": "stderr",
     "output_type": "stream",
     "text": [
      "/usr/local/lib/python3.6/dist-packages/sklearn/neural_network/_multilayer_perceptron.py:571: ConvergenceWarning: Stochastic Optimizer: Maximum iterations (50) reached and the optimization hasn't converged yet.\n",
      "  % self.max_iter, ConvergenceWarning)\n",
      "/usr/local/lib/python3.6/dist-packages/sklearn/neural_network/_multilayer_perceptron.py:571: ConvergenceWarning: Stochastic Optimizer: Maximum iterations (100) reached and the optimization hasn't converged yet.\n",
      "  % self.max_iter, ConvergenceWarning)\n",
      "/usr/local/lib/python3.6/dist-packages/sklearn/neural_network/_multilayer_perceptron.py:571: ConvergenceWarning: Stochastic Optimizer: Maximum iterations (150) reached and the optimization hasn't converged yet.\n",
      "  % self.max_iter, ConvergenceWarning)\n",
      "/usr/local/lib/python3.6/dist-packages/sklearn/neural_network/_multilayer_perceptron.py:571: ConvergenceWarning: Stochastic Optimizer: Maximum iterations (200) reached and the optimization hasn't converged yet.\n",
      "  % self.max_iter, ConvergenceWarning)\n",
      "/usr/local/lib/python3.6/dist-packages/sklearn/neural_network/_multilayer_perceptron.py:571: ConvergenceWarning: Stochastic Optimizer: Maximum iterations (250) reached and the optimization hasn't converged yet.\n",
      "  % self.max_iter, ConvergenceWarning)\n",
      "/usr/local/lib/python3.6/dist-packages/sklearn/neural_network/_multilayer_perceptron.py:571: ConvergenceWarning: Stochastic Optimizer: Maximum iterations (300) reached and the optimization hasn't converged yet.\n",
      "  % self.max_iter, ConvergenceWarning)\n"
     ]
    }
   ],
   "source": [
    "train, test = [],[]\n",
    "for i in [50,100,150,200,250,300]:\n",
    "  clf = MLPClassifier(random_state=1, max_iter=i).fit(X_train, y_train)\n",
    "  train.append(clf.score(X_train, y_train))\n",
    "  test.append(clf.score(X_test, y_test))"
   ]
  },
  {
   "cell_type": "code",
   "execution_count": 111,
   "metadata": {
    "colab": {
     "base_uri": "https://localhost:8080/"
    },
    "id": "HFKv7vqTtXCS",
    "outputId": "721ba475-8e59-457d-f35d-86be5b3f151d"
   },
   "outputs": [
    {
     "data": {
      "text/plain": [
       "[0.9340659340659341,\n",
       " 0.9532967032967034,\n",
       " 0.9615384615384616,\n",
       " 0.967032967032967,\n",
       " 0.9752747252747253,\n",
       " 0.9835164835164835]"
      ]
     },
     "execution_count": 111,
     "metadata": {
      "tags": []
     },
     "output_type": "execute_result"
    }
   ],
   "source": [
    "train"
   ]
  },
  {
   "cell_type": "code",
   "execution_count": 112,
   "metadata": {
    "colab": {
     "base_uri": "https://localhost:8080/"
    },
    "id": "dY2cXzndtXFi",
    "outputId": "d31f2b6f-a534-48b0-89af-d7f6ff4c67f6"
   },
   "outputs": [
    {
     "data": {
      "text/plain": [
       "[0.8974358974358975,\n",
       " 0.9358974358974359,\n",
       " 0.9358974358974359,\n",
       " 0.9358974358974359,\n",
       " 0.9487179487179487,\n",
       " 0.9487179487179487]"
      ]
     },
     "execution_count": 112,
     "metadata": {
      "tags": []
     },
     "output_type": "execute_result"
    }
   ],
   "source": [
    "test"
   ]
  },
  {
   "cell_type": "code",
   "execution_count": 113,
   "metadata": {
    "colab": {
     "base_uri": "https://localhost:8080/"
    },
    "id": "2hGQJEuGt4bo",
    "outputId": "8db2847a-35ae-4462-87cd-4a2da2616303"
   },
   "outputs": [
    {
     "name": "stderr",
     "output_type": "stream",
     "text": [
      "/usr/local/lib/python3.6/dist-packages/sklearn/neural_network/_multilayer_perceptron.py:571: ConvergenceWarning: Stochastic Optimizer: Maximum iterations (100) reached and the optimization hasn't converged yet.\n",
      "  % self.max_iter, ConvergenceWarning)\n",
      "/usr/local/lib/python3.6/dist-packages/sklearn/neural_network/_multilayer_perceptron.py:571: ConvergenceWarning: Stochastic Optimizer: Maximum iterations (100) reached and the optimization hasn't converged yet.\n",
      "  % self.max_iter, ConvergenceWarning)\n",
      "/usr/local/lib/python3.6/dist-packages/sklearn/neural_network/_multilayer_perceptron.py:571: ConvergenceWarning: Stochastic Optimizer: Maximum iterations (100) reached and the optimization hasn't converged yet.\n",
      "  % self.max_iter, ConvergenceWarning)\n",
      "/usr/local/lib/python3.6/dist-packages/sklearn/neural_network/_multilayer_perceptron.py:571: ConvergenceWarning: Stochastic Optimizer: Maximum iterations (100) reached and the optimization hasn't converged yet.\n",
      "  % self.max_iter, ConvergenceWarning)\n"
     ]
    }
   ],
   "source": [
    "atrain, atest = [],[]\n",
    "for i in [0.1,0.01,0.001,0.0001]:\n",
    "  clf = MLPClassifier(random_state=1, max_iter=100, alpha=i).fit(X_train, y_train)\n",
    "  atrain.append(clf.score(X_train, y_train))\n",
    "  atest.append(clf.score(X_test, y_test))"
   ]
  },
  {
   "cell_type": "code",
   "execution_count": 114,
   "metadata": {
    "colab": {
     "base_uri": "https://localhost:8080/"
    },
    "id": "JZtXQinbt5d1",
    "outputId": "99a725ba-fe02-4b30-c5de-09096d7c7574"
   },
   "outputs": [
    {
     "name": "stderr",
     "output_type": "stream",
     "text": [
      "/usr/local/lib/python3.6/dist-packages/sklearn/neural_network/_multilayer_perceptron.py:571: ConvergenceWarning: Stochastic Optimizer: Maximum iterations (100) reached and the optimization hasn't converged yet.\n",
      "  % self.max_iter, ConvergenceWarning)\n",
      "/usr/local/lib/python3.6/dist-packages/sklearn/neural_network/_multilayer_perceptron.py:571: ConvergenceWarning: Stochastic Optimizer: Maximum iterations (100) reached and the optimization hasn't converged yet.\n",
      "  % self.max_iter, ConvergenceWarning)\n",
      "/usr/local/lib/python3.6/dist-packages/sklearn/neural_network/_multilayer_perceptron.py:571: ConvergenceWarning: Stochastic Optimizer: Maximum iterations (100) reached and the optimization hasn't converged yet.\n",
      "  % self.max_iter, ConvergenceWarning)\n",
      "/usr/local/lib/python3.6/dist-packages/sklearn/neural_network/_multilayer_perceptron.py:571: ConvergenceWarning: Stochastic Optimizer: Maximum iterations (100) reached and the optimization hasn't converged yet.\n",
      "  % self.max_iter, ConvergenceWarning)\n"
     ]
    }
   ],
   "source": [
    "actrain, actest = [],[]\n",
    "for i in ['relu', 'identity', 'logistic', 'tanh']:\n",
    "  clf = MLPClassifier(random_state=1, max_iter=100, activation=i).fit(X_train, y_train)\n",
    "  actrain.append(clf.score(X_train, y_train))\n",
    "  actest.append(clf.score(X_test, y_test))"
   ]
  },
  {
   "cell_type": "code",
   "execution_count": 115,
   "metadata": {
    "colab": {
     "base_uri": "https://localhost:8080/"
    },
    "id": "P29RrCk3t5gs",
    "outputId": "6786a663-631c-4538-9444-086f7c12422c"
   },
   "outputs": [
    {
     "name": "stderr",
     "output_type": "stream",
     "text": [
      "/usr/local/lib/python3.6/dist-packages/sklearn/neural_network/_multilayer_perceptron.py:571: ConvergenceWarning: Stochastic Optimizer: Maximum iterations (100) reached and the optimization hasn't converged yet.\n",
      "  % self.max_iter, ConvergenceWarning)\n",
      "/usr/local/lib/python3.6/dist-packages/sklearn/neural_network/_multilayer_perceptron.py:571: ConvergenceWarning: Stochastic Optimizer: Maximum iterations (100) reached and the optimization hasn't converged yet.\n",
      "  % self.max_iter, ConvergenceWarning)\n",
      "/usr/local/lib/python3.6/dist-packages/sklearn/neural_network/_multilayer_perceptron.py:571: ConvergenceWarning: Stochastic Optimizer: Maximum iterations (100) reached and the optimization hasn't converged yet.\n",
      "  % self.max_iter, ConvergenceWarning)\n",
      "/usr/local/lib/python3.6/dist-packages/sklearn/neural_network/_multilayer_perceptron.py:571: ConvergenceWarning: Stochastic Optimizer: Maximum iterations (100) reached and the optimization hasn't converged yet.\n",
      "  % self.max_iter, ConvergenceWarning)\n",
      "/usr/local/lib/python3.6/dist-packages/sklearn/neural_network/_multilayer_perceptron.py:571: ConvergenceWarning: Stochastic Optimizer: Maximum iterations (100) reached and the optimization hasn't converged yet.\n",
      "  % self.max_iter, ConvergenceWarning)\n",
      "/usr/local/lib/python3.6/dist-packages/sklearn/neural_network/_multilayer_perceptron.py:571: ConvergenceWarning: Stochastic Optimizer: Maximum iterations (100) reached and the optimization hasn't converged yet.\n",
      "  % self.max_iter, ConvergenceWarning)\n"
     ]
    }
   ],
   "source": [
    "btrain, btest = [],[]\n",
    "for i in [10, 25, 50, 100, 150, 200]:\n",
    "  clf = MLPClassifier(random_state=1, max_iter=100, batch_size=i).fit(X_train, y_train)\n",
    "  btrain.append(clf.score(X_train, y_train))\n",
    "  btest.append(clf.score(X_test, y_test))"
   ]
  },
  {
   "cell_type": "code",
   "execution_count": 116,
   "metadata": {
    "id": "K1GlToTyyq59"
   },
   "outputs": [],
   "source": [
    "import matplotlib.pyplot as plt "
   ]
  },
  {
   "cell_type": "code",
   "execution_count": 121,
   "metadata": {
    "colab": {
     "base_uri": "https://localhost:8080/",
     "height": 491
    },
    "id": "1MXGVJYTyFrs",
    "outputId": "66d1cb2e-f599-4274-9a0a-cacc610ea9ce"
   },
   "outputs": [
    {
     "data": {
      "text/plain": [
       "<seaborn.axisgrid.FacetGrid at 0x7f7a1fa0fd68>"
      ]
     },
     "execution_count": 121,
     "metadata": {
      "tags": []
     },
     "output_type": "execute_result"
    },
    {
     "data": {
      "image/png": "[encoded data removed]",
      "text/plain": [
       "<Figure size 1093.79x451.44 with 1 Axes>"
      ]
     },
     "metadata": {
      "tags": []
     },
     "output_type": "display_data"
    }
   ],
   "source": [
    "import matplotlib.pyplot as plt\n",
    "import seaborn as sns\n",
    "\n",
    "a = [50,100,150,200,250,300]\n",
    "b = [0.1,0.01,0.001,0.0001]\n",
    "c = ['relu', 'identity', 'logistic', 'tanh']\n",
    "d = [10, 25, 50, 100, 150, 200]\n",
    "\n",
    "plt.style.use('seaborn')\n",
    "a=[str(i) for i in a]\n",
    "b=[str(i) for i in b]\n",
    "c=[str(i) for i in c]\n",
    "d=[str(i) for i in d]\n",
    "sns.set(font_scale=1.2)\n",
    "data={'Max Iter And Alpha':[str(i)+\" iter\" for i in a]+[str(i)+\" alpha\" for i in b]\n",
    "      ,'Train Acc':train+atrain\n",
    "      ,'Test Acc':test+atest}\n",
    "df=pd.DataFrame(data)\n",
    "df = pd.melt(df, id_vars=\"Max Iter And Alpha\", var_name=\"Train/Test\", value_name=\"Accuracies\")\n",
    "nls=sns.catplot(x='Max Iter And Alpha', y='Accuracies', hue='Train/Test', \n",
    "            data=df, kind='bar',height=6.27, aspect=13.7/6.27)\n",
    "nls.set(ylim=(0.8,1))"
   ]
  },
  {
   "cell_type": "code",
   "execution_count": 120,
   "metadata": {
    "colab": {
     "base_uri": "https://localhost:8080/",
     "height": 491
    },
    "id": "bybpKjpgyF4k",
    "outputId": "011b9bcf-00cc-4a93-8692-8f5f0d542389"
   },
   "outputs": [
    {
     "data": {
      "text/plain": [
       "<seaborn.axisgrid.FacetGrid at 0x7f7a202295f8>"
      ]
     },
     "execution_count": 120,
     "metadata": {
      "tags": []
     },
     "output_type": "execute_result"
    },
    {
     "data": {
      "image/png": "[encoded data removed]",
      "text/plain": [
       "<Figure size 1093.79x451.44 with 1 Axes>"
      ]
     },
     "metadata": {
      "tags": []
     },
     "output_type": "display_data"
    }
   ],
   "source": [
    "plt.style.use('seaborn')\n",
    "sns.set(font_scale=1.2)\n",
    "data={'Activation and Batch Size':[str(i) for i in c]+[str(i)+\" batch size\" for i in d]\n",
    "      ,'Train Acc':actrain+btrain\n",
    "      ,'Test Acc':actest+btest}\n",
    "df=pd.DataFrame(data)\n",
    "df = pd.melt(df, id_vars=\"Activation and Batch Size\", var_name=\"Train/Test\", value_name=\"Accuracies\")\n",
    "nls=sns.catplot(x='Activation and Batch Size', y='Accuracies', hue='Train/Test', \n",
    "            data=df, kind='bar',height=6.27, aspect=13.7/6.27)\n",
    "nls.set(ylim=(0.8,1))"
   ]
  },
  {
   "cell_type": "markdown",
   "metadata": {
    "id": "bDvipmSK1dVz"
   },
   "source": [
    "# Concluding Remarks\n",
    "\n",
    "## Sklearn vs Model from Scratch\n",
    "#### It is clear that Sklearn's Model is performing better than the model implemented from scratch. Also, I believe that the Sklearn's implementation is optimized and doing well in terms of time and space complexity as its execution time is pretty low when compared to my model. Also, Sklearn library's implementation is quite popular. It has been examined, tested, debugged, and updated by the members of the community, so the likelihood of hidden errors is decreased and the approaches to the algorithm have been optimized with a greater accuracy.\n",
    "\n",
    "## Playing with Hyperparameters\n",
    "####  We can see that setting Hyperparameters play a crucial role in determining the accuracy of the predictions. \n",
    "#### We can observe that the Max Iter size of 300 performed very well. The change of the value of Alpha made negligible difference in accuracies of both Training and Testing. Relu activation function performed well in comparison to the other ones.Coming to batch size, the batch size of 10 and 25 performed well wrt to others."
   ]
  }
 ],
 "metadata": {
  "colab": {
   "collapsed_sections": [],
   "name": "ANN for Classification E18CSE187.ipynb",
   "provenance": []
  },
  "kernelspec": {
   "display_name": "Python 3",
   "language": "python",
   "name": "python3"
  },
  "language_info": {
   "codemirror_mode": {
    "name": "ipython",
    "version": 3
   },
   "file_extension": ".py",
   "mimetype": "text/x-python",
   "name": "python",
   "nbconvert_exporter": "python",
   "pygments_lexer": "ipython3",
   "version": "3.7.0"
  }
 },
 "nbformat": 4,
 "nbformat_minor": 1
}
