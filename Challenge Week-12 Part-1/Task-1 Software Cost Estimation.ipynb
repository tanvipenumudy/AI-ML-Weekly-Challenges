{
  "nbformat": 4,
  "nbformat_minor": 0,
  "metadata": {
    "colab": {
      "name": "Task-1 Software Cost Estimation E18CSE187.ipynb",
      "provenance": [],
      "collapsed_sections": []
    },
    "kernelspec": {
      "name": "python3",
      "display_name": "Python 3"
    }
  },
  "cells": [
    {
      "cell_type": "markdown",
      "metadata": {
        "id": "1yGvcerZa0S8"
      },
      "source": [
        "# Objective: Feature Subset Selection to Improve Software Cost Estimation\n",
        "\n",
        "## Dataset\n",
        "This is a PROMISE Software Engineering Repository data set made publicly available to encourage repeatable, verifiable, refutable, and/or improvable predictive models of software engineering. The main objective is to estimate the software cost estimation using feature subset selection techniques.\n",
        "\n",
        "## Attributes\n",
        "1.\tRELY {Nominal,Very_High,High,Low} \n",
        "2.\tDATA {High,Low,Nominal,Very_High} \n",
        "3.\tCPLX {Very_High,High,Nominal,Extra_High,Low} \n",
        "4.\tTIME {Nominal,Very_High,High,Extra_High} \n",
        "5.\tSTOR {Nominal,Very_High,High,Extra_High} \n",
        "6.\tVIRT {Low,Nominal,High}\n",
        "7.\tTURN {Nominal,High,Low}\n",
        "8.\tACAP {High,Very_High,Nominal} \n",
        "9.\tAEXP {Nominal,Very_High,High} \n",
        "10.\tPCAP {Very_High,High,Nominal}\n",
        "11.\tVEXP {Low,Nominal,High}\n",
        "12.\tLEXP {Nominal,High,Very_Low,Low} \n",
        "13.\tMODP {High,Nominal,Very_High,Low}\n",
        "14.\tTOOL {Nominal,High,Very_High,Very_Low,Low} \n",
        "15.\tSCED {Low,Nominal,High}\n",
        "16.\tLOC numeric \n",
        "\n",
        "## Target Class\n",
        "ACT_EFFORT numeric %17\n",
        "\n",
        "### Source: http://promise.site.uottawa.ca/SERepository/datasets/cocomonasa_v1.arff\n",
        "\n",
        "Tasks:\n",
        "1.\tObtain the software cost estimation dataset\n",
        "2.\tApply pre-processing techniques (if any)\n",
        "3.\tApply feature subset selection techniques such as correlation analysis, forward selection, backward elimination, recursive feature elimination etc. Find best possible subset of features from each method.\n",
        "4.\tDivide dataset into training and testing set, respectively.\n",
        "5.\tImplement support vector regression (SVR), Linear regression, and Decision tree.\n",
        "6.\tEnsemble SVR, Linear regression and Decision tree. \n",
        "7.\tEvaluate Coefficient of determination and Root mean square error for all the models including the ensemble one.\n",
        "8.\tConclude the results\n",
        "\n",
        "Helpful links: https://scikit-learn.org/stable/modules/ensemble.html\n",
        "https://www.analyticsvidhya.com/blog/2020/03/support-vector-regression-tutorial-for-machine-learning/\n",
        "https://medium.com/pursuitnotes/support-vector-regression-in-6-steps-with-python-c4569acd062d\n",
        "https://scikit-learn.org/stable/auto_examples/svm/plot_svm_regression.html\n"
      ]
    },
    {
      "cell_type": "markdown",
      "metadata": {
        "id": "5uFw2frEUF0y"
      },
      "source": [
        "## Task 1: Implementation of regression models "
      ]
    },
    {
      "cell_type": "code",
      "metadata": {
        "id": "Duh_Q74qIidS"
      },
      "source": [
        "# Load the libraries\n",
        "import pandas as pd\n",
        "import numpy as np\n",
        "from sklearn.model_selection import train_test_split\n",
        "from sklearn.preprocessing import LabelEncoder, MinMaxScaler\n",
        "from scipy.io import arff\n",
        "from sklearn.utils import shuffle\n",
        "from sklearn.feature_selection import SelectKBest, f_regression\n",
        "from sklearn.feature_selection import RFE"
      ],
      "execution_count": 111,
      "outputs": []
    },
    {
      "cell_type": "code",
      "metadata": {
        "id": "yzyltYbjxmWQ"
      },
      "source": [
        "!wget http://promise.site.uottawa.ca/SERepository/datasets/cocomonasa_v1.arff"
      ],
      "execution_count": 1,
      "outputs": []
    },
    {
      "cell_type": "code",
      "metadata": {
        "id": "SyioH2iYIjhk",
        "outputId": "cad53a25-706a-4d44-a2e8-399ba1f73195",
        "colab": {
          "base_uri": "https://localhost:8080/",
          "height": 195
        }
      },
      "source": [
        "# Load the dataset \n",
        "data=arff.loadarff('cocomonasa_v1.arff')\n",
        "data=data[0]\n",
        "df=pd.DataFrame(data)\n",
        "for i in range(df.shape[0]):\n",
        "    for j in range(df.shape[1]-2):\n",
        "        df.iloc[i,j]=df.iloc[i,j].decode('utf-8')\n",
        "df.head()"
      ],
      "execution_count": 10,
      "outputs": [
        {
          "output_type": "execute_result",
          "data": {
            "text/html": [
              "<div>\n",
              "<style scoped>\n",
              "    .dataframe tbody tr th:only-of-type {\n",
              "        vertical-align: middle;\n",
              "    }\n",
              "\n",
              "    .dataframe tbody tr th {\n",
              "        vertical-align: top;\n",
              "    }\n",
              "\n",
              "    .dataframe thead th {\n",
              "        text-align: right;\n",
              "    }\n",
              "</style>\n",
              "<table border=\"1\" class=\"dataframe\">\n",
              "  <thead>\n",
              "    <tr style=\"text-align: right;\">\n",
              "      <th></th>\n",
              "      <th>RELY</th>\n",
              "      <th>DATA</th>\n",
              "      <th>CPLX</th>\n",
              "      <th>TIME</th>\n",
              "      <th>STOR</th>\n",
              "      <th>VIRT</th>\n",
              "      <th>TURN</th>\n",
              "      <th>ACAP</th>\n",
              "      <th>AEXP</th>\n",
              "      <th>PCAP</th>\n",
              "      <th>VEXP</th>\n",
              "      <th>LEXP</th>\n",
              "      <th>MODP</th>\n",
              "      <th>TOOL</th>\n",
              "      <th>SCED</th>\n",
              "      <th>LOC</th>\n",
              "      <th>ACT_EFFORT</th>\n",
              "    </tr>\n",
              "  </thead>\n",
              "  <tbody>\n",
              "    <tr>\n",
              "      <th>0</th>\n",
              "      <td>Nominal</td>\n",
              "      <td>High</td>\n",
              "      <td>Very_High</td>\n",
              "      <td>Nominal</td>\n",
              "      <td>Nominal</td>\n",
              "      <td>Low</td>\n",
              "      <td>Nominal</td>\n",
              "      <td>High</td>\n",
              "      <td>Nominal</td>\n",
              "      <td>Very_High</td>\n",
              "      <td>Low</td>\n",
              "      <td>Nominal</td>\n",
              "      <td>High</td>\n",
              "      <td>Nominal</td>\n",
              "      <td>Low</td>\n",
              "      <td>70.0</td>\n",
              "      <td>278.0</td>\n",
              "    </tr>\n",
              "    <tr>\n",
              "      <th>1</th>\n",
              "      <td>Very_High</td>\n",
              "      <td>High</td>\n",
              "      <td>High</td>\n",
              "      <td>Very_High</td>\n",
              "      <td>Very_High</td>\n",
              "      <td>Nominal</td>\n",
              "      <td>Nominal</td>\n",
              "      <td>Very_High</td>\n",
              "      <td>Very_High</td>\n",
              "      <td>Very_High</td>\n",
              "      <td>Nominal</td>\n",
              "      <td>High</td>\n",
              "      <td>High</td>\n",
              "      <td>High</td>\n",
              "      <td>Low</td>\n",
              "      <td>227.0</td>\n",
              "      <td>1181.0</td>\n",
              "    </tr>\n",
              "    <tr>\n",
              "      <th>2</th>\n",
              "      <td>Nominal</td>\n",
              "      <td>High</td>\n",
              "      <td>High</td>\n",
              "      <td>Very_High</td>\n",
              "      <td>High</td>\n",
              "      <td>Low</td>\n",
              "      <td>High</td>\n",
              "      <td>High</td>\n",
              "      <td>Nominal</td>\n",
              "      <td>High</td>\n",
              "      <td>Low</td>\n",
              "      <td>High</td>\n",
              "      <td>High</td>\n",
              "      <td>Nominal</td>\n",
              "      <td>Low</td>\n",
              "      <td>177.9</td>\n",
              "      <td>1248.0</td>\n",
              "    </tr>\n",
              "    <tr>\n",
              "      <th>3</th>\n",
              "      <td>High</td>\n",
              "      <td>Low</td>\n",
              "      <td>High</td>\n",
              "      <td>Nominal</td>\n",
              "      <td>Nominal</td>\n",
              "      <td>Low</td>\n",
              "      <td>Low</td>\n",
              "      <td>Nominal</td>\n",
              "      <td>Nominal</td>\n",
              "      <td>Nominal</td>\n",
              "      <td>Nominal</td>\n",
              "      <td>High</td>\n",
              "      <td>High</td>\n",
              "      <td>Nominal</td>\n",
              "      <td>Low</td>\n",
              "      <td>115.8</td>\n",
              "      <td>480.0</td>\n",
              "    </tr>\n",
              "    <tr>\n",
              "      <th>4</th>\n",
              "      <td>High</td>\n",
              "      <td>Low</td>\n",
              "      <td>High</td>\n",
              "      <td>Nominal</td>\n",
              "      <td>Nominal</td>\n",
              "      <td>Low</td>\n",
              "      <td>Low</td>\n",
              "      <td>Nominal</td>\n",
              "      <td>Nominal</td>\n",
              "      <td>Nominal</td>\n",
              "      <td>Nominal</td>\n",
              "      <td>High</td>\n",
              "      <td>High</td>\n",
              "      <td>Nominal</td>\n",
              "      <td>Low</td>\n",
              "      <td>29.5</td>\n",
              "      <td>120.0</td>\n",
              "    </tr>\n",
              "  </tbody>\n",
              "</table>\n",
              "</div>"
            ],
            "text/plain": [
              "        RELY  DATA       CPLX       TIME  ...     TOOL SCED    LOC ACT_EFFORT\n",
              "0    Nominal  High  Very_High    Nominal  ...  Nominal  Low   70.0      278.0\n",
              "1  Very_High  High       High  Very_High  ...     High  Low  227.0     1181.0\n",
              "2    Nominal  High       High  Very_High  ...  Nominal  Low  177.9     1248.0\n",
              "3       High   Low       High    Nominal  ...  Nominal  Low  115.8      480.0\n",
              "4       High   Low       High    Nominal  ...  Nominal  Low   29.5      120.0\n",
              "\n",
              "[5 rows x 17 columns]"
            ]
          },
          "metadata": {
            "tags": []
          },
          "execution_count": 10
        }
      ]
    },
    {
      "cell_type": "code",
      "metadata": {
        "id": "ebWf1RehTwCT",
        "outputId": "95176d59-ec8a-4a8e-f21e-56f4834b29c8",
        "colab": {
          "base_uri": "https://localhost:8080/",
          "height": 195
        }
      },
      "source": [
        "# Shuffle the dataset\n",
        "df = df.sample(frac=1).reset_index(drop=True)\n",
        "df.head()"
      ],
      "execution_count": 11,
      "outputs": [
        {
          "output_type": "execute_result",
          "data": {
            "text/html": [
              "<div>\n",
              "<style scoped>\n",
              "    .dataframe tbody tr th:only-of-type {\n",
              "        vertical-align: middle;\n",
              "    }\n",
              "\n",
              "    .dataframe tbody tr th {\n",
              "        vertical-align: top;\n",
              "    }\n",
              "\n",
              "    .dataframe thead th {\n",
              "        text-align: right;\n",
              "    }\n",
              "</style>\n",
              "<table border=\"1\" class=\"dataframe\">\n",
              "  <thead>\n",
              "    <tr style=\"text-align: right;\">\n",
              "      <th></th>\n",
              "      <th>RELY</th>\n",
              "      <th>DATA</th>\n",
              "      <th>CPLX</th>\n",
              "      <th>TIME</th>\n",
              "      <th>STOR</th>\n",
              "      <th>VIRT</th>\n",
              "      <th>TURN</th>\n",
              "      <th>ACAP</th>\n",
              "      <th>AEXP</th>\n",
              "      <th>PCAP</th>\n",
              "      <th>VEXP</th>\n",
              "      <th>LEXP</th>\n",
              "      <th>MODP</th>\n",
              "      <th>TOOL</th>\n",
              "      <th>SCED</th>\n",
              "      <th>LOC</th>\n",
              "      <th>ACT_EFFORT</th>\n",
              "    </tr>\n",
              "  </thead>\n",
              "  <tbody>\n",
              "    <tr>\n",
              "      <th>0</th>\n",
              "      <td>Nominal</td>\n",
              "      <td>Low</td>\n",
              "      <td>High</td>\n",
              "      <td>Nominal</td>\n",
              "      <td>Nominal</td>\n",
              "      <td>High</td>\n",
              "      <td>Low</td>\n",
              "      <td>High</td>\n",
              "      <td>High</td>\n",
              "      <td>High</td>\n",
              "      <td>Low</td>\n",
              "      <td>Very_Low</td>\n",
              "      <td>Nominal</td>\n",
              "      <td>Nominal</td>\n",
              "      <td>Nominal</td>\n",
              "      <td>100.0</td>\n",
              "      <td>215.0</td>\n",
              "    </tr>\n",
              "    <tr>\n",
              "      <th>1</th>\n",
              "      <td>Nominal</td>\n",
              "      <td>Low</td>\n",
              "      <td>High</td>\n",
              "      <td>Nominal</td>\n",
              "      <td>Nominal</td>\n",
              "      <td>Low</td>\n",
              "      <td>Low</td>\n",
              "      <td>High</td>\n",
              "      <td>Very_High</td>\n",
              "      <td>Very_High</td>\n",
              "      <td>Nominal</td>\n",
              "      <td>High</td>\n",
              "      <td>Nominal</td>\n",
              "      <td>Nominal</td>\n",
              "      <td>Nominal</td>\n",
              "      <td>20.0</td>\n",
              "      <td>72.0</td>\n",
              "    </tr>\n",
              "    <tr>\n",
              "      <th>2</th>\n",
              "      <td>High</td>\n",
              "      <td>Low</td>\n",
              "      <td>High</td>\n",
              "      <td>Nominal</td>\n",
              "      <td>Nominal</td>\n",
              "      <td>Low</td>\n",
              "      <td>Low</td>\n",
              "      <td>Nominal</td>\n",
              "      <td>Nominal</td>\n",
              "      <td>Nominal</td>\n",
              "      <td>Nominal</td>\n",
              "      <td>High</td>\n",
              "      <td>High</td>\n",
              "      <td>Nominal</td>\n",
              "      <td>Low</td>\n",
              "      <td>10.4</td>\n",
              "      <td>50.0</td>\n",
              "    </tr>\n",
              "    <tr>\n",
              "      <th>3</th>\n",
              "      <td>High</td>\n",
              "      <td>Nominal</td>\n",
              "      <td>High</td>\n",
              "      <td>Nominal</td>\n",
              "      <td>Nominal</td>\n",
              "      <td>Nominal</td>\n",
              "      <td>Nominal</td>\n",
              "      <td>Nominal</td>\n",
              "      <td>Nominal</td>\n",
              "      <td>Nominal</td>\n",
              "      <td>Nominal</td>\n",
              "      <td>Nominal</td>\n",
              "      <td>Nominal</td>\n",
              "      <td>Nominal</td>\n",
              "      <td>Nominal</td>\n",
              "      <td>6.5</td>\n",
              "      <td>42.0</td>\n",
              "    </tr>\n",
              "    <tr>\n",
              "      <th>4</th>\n",
              "      <td>Nominal</td>\n",
              "      <td>Low</td>\n",
              "      <td>High</td>\n",
              "      <td>Nominal</td>\n",
              "      <td>Extra_High</td>\n",
              "      <td>Low</td>\n",
              "      <td>Low</td>\n",
              "      <td>High</td>\n",
              "      <td>Very_High</td>\n",
              "      <td>Very_High</td>\n",
              "      <td>Nominal</td>\n",
              "      <td>High</td>\n",
              "      <td>Nominal</td>\n",
              "      <td>Nominal</td>\n",
              "      <td>Nominal</td>\n",
              "      <td>150.0</td>\n",
              "      <td>324.0</td>\n",
              "    </tr>\n",
              "  </tbody>\n",
              "</table>\n",
              "</div>"
            ],
            "text/plain": [
              "      RELY     DATA  CPLX     TIME  ...     TOOL     SCED    LOC ACT_EFFORT\n",
              "0  Nominal      Low  High  Nominal  ...  Nominal  Nominal  100.0      215.0\n",
              "1  Nominal      Low  High  Nominal  ...  Nominal  Nominal   20.0       72.0\n",
              "2     High      Low  High  Nominal  ...  Nominal      Low   10.4       50.0\n",
              "3     High  Nominal  High  Nominal  ...  Nominal  Nominal    6.5       42.0\n",
              "4  Nominal      Low  High  Nominal  ...  Nominal  Nominal  150.0      324.0\n",
              "\n",
              "[5 rows x 17 columns]"
            ]
          },
          "metadata": {
            "tags": []
          },
          "execution_count": 11
        }
      ]
    },
    {
      "cell_type": "code",
      "metadata": {
        "id": "vtfupr9JInhf",
        "outputId": "6f9a0fb5-503d-4434-e218-be4a2927d3c9",
        "colab": {
          "base_uri": "https://localhost:8080/"
        }
      },
      "source": [
        "# Preprocessing\n",
        "# Encoding categorical variables (if any)\n",
        "# Feature Scaling\n",
        "# Filling missing values (if any)\n",
        "df.isna().sum()"
      ],
      "execution_count": 12,
      "outputs": [
        {
          "output_type": "execute_result",
          "data": {
            "text/plain": [
              "RELY          0\n",
              "DATA          0\n",
              "CPLX          0\n",
              "TIME          0\n",
              "STOR          0\n",
              "VIRT          0\n",
              "TURN          0\n",
              "ACAP          0\n",
              "AEXP          0\n",
              "PCAP          0\n",
              "VEXP          0\n",
              "LEXP          0\n",
              "MODP          0\n",
              "TOOL          0\n",
              "SCED          0\n",
              "LOC           0\n",
              "ACT_EFFORT    0\n",
              "dtype: int64"
            ]
          },
          "metadata": {
            "tags": []
          },
          "execution_count": 12
        }
      ]
    },
    {
      "cell_type": "code",
      "metadata": {
        "id": "p3pmvHbWVEyf"
      },
      "source": [
        "data = df.iloc[:,:-1]"
      ],
      "execution_count": 13,
      "outputs": []
    },
    {
      "cell_type": "code",
      "metadata": {
        "id": "wA4_DEjNUrmo",
        "outputId": "f9fc9d47-6735-44bc-8ed8-7469c4d7db5b",
        "colab": {
          "base_uri": "https://localhost:8080/"
        }
      },
      "source": [
        "LE = LabelEncoder()\n",
        "CateList = data.select_dtypes(exclude=\"int64\").columns\n",
        "print(CateList)"
      ],
      "execution_count": 14,
      "outputs": [
        {
          "output_type": "stream",
          "text": [
            "Index(['RELY', 'DATA', 'CPLX', 'TIME', 'STOR', 'VIRT', 'TURN', 'ACAP', 'AEXP',\n",
            "       'PCAP', 'VEXP', 'LEXP', 'MODP', 'TOOL', 'SCED', 'LOC'],\n",
            "      dtype='object')\n"
          ],
          "name": "stdout"
        }
      ]
    },
    {
      "cell_type": "code",
      "metadata": {
        "id": "_scqHWRAUrxG"
      },
      "source": [
        "for i in CateList:\n",
        "    df[i] = LE.fit_transform(df[i])"
      ],
      "execution_count": 16,
      "outputs": []
    },
    {
      "cell_type": "code",
      "metadata": {
        "id": "E48SAEPcU0v1",
        "outputId": "3cab7a87-5998-4568-ea36-c4e910f2d1c1",
        "colab": {
          "base_uri": "https://localhost:8080/",
          "height": 195
        }
      },
      "source": [
        "df.head()"
      ],
      "execution_count": 17,
      "outputs": [
        {
          "output_type": "execute_result",
          "data": {
            "text/html": [
              "<div>\n",
              "<style scoped>\n",
              "    .dataframe tbody tr th:only-of-type {\n",
              "        vertical-align: middle;\n",
              "    }\n",
              "\n",
              "    .dataframe tbody tr th {\n",
              "        vertical-align: top;\n",
              "    }\n",
              "\n",
              "    .dataframe thead th {\n",
              "        text-align: right;\n",
              "    }\n",
              "</style>\n",
              "<table border=\"1\" class=\"dataframe\">\n",
              "  <thead>\n",
              "    <tr style=\"text-align: right;\">\n",
              "      <th></th>\n",
              "      <th>RELY</th>\n",
              "      <th>DATA</th>\n",
              "      <th>CPLX</th>\n",
              "      <th>TIME</th>\n",
              "      <th>STOR</th>\n",
              "      <th>VIRT</th>\n",
              "      <th>TURN</th>\n",
              "      <th>ACAP</th>\n",
              "      <th>AEXP</th>\n",
              "      <th>PCAP</th>\n",
              "      <th>VEXP</th>\n",
              "      <th>LEXP</th>\n",
              "      <th>MODP</th>\n",
              "      <th>TOOL</th>\n",
              "      <th>SCED</th>\n",
              "      <th>LOC</th>\n",
              "      <th>ACT_EFFORT</th>\n",
              "    </tr>\n",
              "  </thead>\n",
              "  <tbody>\n",
              "    <tr>\n",
              "      <th>0</th>\n",
              "      <td>2</td>\n",
              "      <td>1</td>\n",
              "      <td>1</td>\n",
              "      <td>2</td>\n",
              "      <td>2</td>\n",
              "      <td>0</td>\n",
              "      <td>1</td>\n",
              "      <td>0</td>\n",
              "      <td>0</td>\n",
              "      <td>0</td>\n",
              "      <td>1</td>\n",
              "      <td>3</td>\n",
              "      <td>2</td>\n",
              "      <td>2</td>\n",
              "      <td>2</td>\n",
              "      <td>41</td>\n",
              "      <td>215.0</td>\n",
              "    </tr>\n",
              "    <tr>\n",
              "      <th>1</th>\n",
              "      <td>2</td>\n",
              "      <td>1</td>\n",
              "      <td>1</td>\n",
              "      <td>2</td>\n",
              "      <td>2</td>\n",
              "      <td>1</td>\n",
              "      <td>1</td>\n",
              "      <td>0</td>\n",
              "      <td>2</td>\n",
              "      <td>2</td>\n",
              "      <td>2</td>\n",
              "      <td>0</td>\n",
              "      <td>2</td>\n",
              "      <td>2</td>\n",
              "      <td>2</td>\n",
              "      <td>23</td>\n",
              "      <td>72.0</td>\n",
              "    </tr>\n",
              "    <tr>\n",
              "      <th>2</th>\n",
              "      <td>0</td>\n",
              "      <td>1</td>\n",
              "      <td>1</td>\n",
              "      <td>2</td>\n",
              "      <td>2</td>\n",
              "      <td>1</td>\n",
              "      <td>1</td>\n",
              "      <td>1</td>\n",
              "      <td>1</td>\n",
              "      <td>1</td>\n",
              "      <td>2</td>\n",
              "      <td>0</td>\n",
              "      <td>0</td>\n",
              "      <td>2</td>\n",
              "      <td>1</td>\n",
              "      <td>11</td>\n",
              "      <td>50.0</td>\n",
              "    </tr>\n",
              "    <tr>\n",
              "      <th>3</th>\n",
              "      <td>0</td>\n",
              "      <td>2</td>\n",
              "      <td>1</td>\n",
              "      <td>2</td>\n",
              "      <td>2</td>\n",
              "      <td>2</td>\n",
              "      <td>2</td>\n",
              "      <td>1</td>\n",
              "      <td>1</td>\n",
              "      <td>1</td>\n",
              "      <td>2</td>\n",
              "      <td>2</td>\n",
              "      <td>2</td>\n",
              "      <td>2</td>\n",
              "      <td>2</td>\n",
              "      <td>4</td>\n",
              "      <td>42.0</td>\n",
              "    </tr>\n",
              "    <tr>\n",
              "      <th>4</th>\n",
              "      <td>2</td>\n",
              "      <td>1</td>\n",
              "      <td>1</td>\n",
              "      <td>2</td>\n",
              "      <td>0</td>\n",
              "      <td>1</td>\n",
              "      <td>1</td>\n",
              "      <td>0</td>\n",
              "      <td>2</td>\n",
              "      <td>2</td>\n",
              "      <td>2</td>\n",
              "      <td>0</td>\n",
              "      <td>2</td>\n",
              "      <td>2</td>\n",
              "      <td>2</td>\n",
              "      <td>44</td>\n",
              "      <td>324.0</td>\n",
              "    </tr>\n",
              "  </tbody>\n",
              "</table>\n",
              "</div>"
            ],
            "text/plain": [
              "   RELY  DATA  CPLX  TIME  STOR  VIRT  ...  LEXP  MODP  TOOL  SCED  LOC  ACT_EFFORT\n",
              "0     2     1     1     2     2     0  ...     3     2     2     2   41       215.0\n",
              "1     2     1     1     2     2     1  ...     0     2     2     2   23        72.0\n",
              "2     0     1     1     2     2     1  ...     0     0     2     1   11        50.0\n",
              "3     0     2     1     2     2     2  ...     2     2     2     2    4        42.0\n",
              "4     2     1     1     2     0     1  ...     0     2     2     2   44       324.0\n",
              "\n",
              "[5 rows x 17 columns]"
            ]
          },
          "metadata": {
            "tags": []
          },
          "execution_count": 17
        }
      ]
    },
    {
      "cell_type": "code",
      "metadata": {
        "id": "TiMZCWdhU0zi"
      },
      "source": [
        "data = df.iloc[:,:-1]\n",
        "mm = MinMaxScaler()\n",
        "data[:]= mm.fit_transform(data[:])"
      ],
      "execution_count": 20,
      "outputs": []
    },
    {
      "cell_type": "code",
      "metadata": {
        "id": "zZzIZJ65U0ul",
        "outputId": "6f0fc364-0fc7-4919-850f-9d3d7081dd27",
        "colab": {
          "base_uri": "https://localhost:8080/",
          "height": 195
        }
      },
      "source": [
        "data.head()"
      ],
      "execution_count": 21,
      "outputs": [
        {
          "output_type": "execute_result",
          "data": {
            "text/html": [
              "<div>\n",
              "<style scoped>\n",
              "    .dataframe tbody tr th:only-of-type {\n",
              "        vertical-align: middle;\n",
              "    }\n",
              "\n",
              "    .dataframe tbody tr th {\n",
              "        vertical-align: top;\n",
              "    }\n",
              "\n",
              "    .dataframe thead th {\n",
              "        text-align: right;\n",
              "    }\n",
              "</style>\n",
              "<table border=\"1\" class=\"dataframe\">\n",
              "  <thead>\n",
              "    <tr style=\"text-align: right;\">\n",
              "      <th></th>\n",
              "      <th>RELY</th>\n",
              "      <th>DATA</th>\n",
              "      <th>CPLX</th>\n",
              "      <th>TIME</th>\n",
              "      <th>STOR</th>\n",
              "      <th>VIRT</th>\n",
              "      <th>TURN</th>\n",
              "      <th>ACAP</th>\n",
              "      <th>AEXP</th>\n",
              "      <th>PCAP</th>\n",
              "      <th>VEXP</th>\n",
              "      <th>LEXP</th>\n",
              "      <th>MODP</th>\n",
              "      <th>TOOL</th>\n",
              "      <th>SCED</th>\n",
              "      <th>LOC</th>\n",
              "    </tr>\n",
              "  </thead>\n",
              "  <tbody>\n",
              "    <tr>\n",
              "      <th>0</th>\n",
              "      <td>0.666667</td>\n",
              "      <td>0.333333</td>\n",
              "      <td>0.25</td>\n",
              "      <td>0.666667</td>\n",
              "      <td>0.666667</td>\n",
              "      <td>0.0</td>\n",
              "      <td>0.5</td>\n",
              "      <td>0.0</td>\n",
              "      <td>0.0</td>\n",
              "      <td>0.0</td>\n",
              "      <td>0.5</td>\n",
              "      <td>1.000000</td>\n",
              "      <td>0.666667</td>\n",
              "      <td>0.5</td>\n",
              "      <td>1.0</td>\n",
              "      <td>0.759259</td>\n",
              "    </tr>\n",
              "    <tr>\n",
              "      <th>1</th>\n",
              "      <td>0.666667</td>\n",
              "      <td>0.333333</td>\n",
              "      <td>0.25</td>\n",
              "      <td>0.666667</td>\n",
              "      <td>0.666667</td>\n",
              "      <td>0.5</td>\n",
              "      <td>0.5</td>\n",
              "      <td>0.0</td>\n",
              "      <td>1.0</td>\n",
              "      <td>1.0</td>\n",
              "      <td>1.0</td>\n",
              "      <td>0.000000</td>\n",
              "      <td>0.666667</td>\n",
              "      <td>0.5</td>\n",
              "      <td>1.0</td>\n",
              "      <td>0.425926</td>\n",
              "    </tr>\n",
              "    <tr>\n",
              "      <th>2</th>\n",
              "      <td>0.000000</td>\n",
              "      <td>0.333333</td>\n",
              "      <td>0.25</td>\n",
              "      <td>0.666667</td>\n",
              "      <td>0.666667</td>\n",
              "      <td>0.5</td>\n",
              "      <td>0.5</td>\n",
              "      <td>0.5</td>\n",
              "      <td>0.5</td>\n",
              "      <td>0.5</td>\n",
              "      <td>1.0</td>\n",
              "      <td>0.000000</td>\n",
              "      <td>0.000000</td>\n",
              "      <td>0.5</td>\n",
              "      <td>0.5</td>\n",
              "      <td>0.203704</td>\n",
              "    </tr>\n",
              "    <tr>\n",
              "      <th>3</th>\n",
              "      <td>0.000000</td>\n",
              "      <td>0.666667</td>\n",
              "      <td>0.25</td>\n",
              "      <td>0.666667</td>\n",
              "      <td>0.666667</td>\n",
              "      <td>1.0</td>\n",
              "      <td>1.0</td>\n",
              "      <td>0.5</td>\n",
              "      <td>0.5</td>\n",
              "      <td>0.5</td>\n",
              "      <td>1.0</td>\n",
              "      <td>0.666667</td>\n",
              "      <td>0.666667</td>\n",
              "      <td>0.5</td>\n",
              "      <td>1.0</td>\n",
              "      <td>0.074074</td>\n",
              "    </tr>\n",
              "    <tr>\n",
              "      <th>4</th>\n",
              "      <td>0.666667</td>\n",
              "      <td>0.333333</td>\n",
              "      <td>0.25</td>\n",
              "      <td>0.666667</td>\n",
              "      <td>0.000000</td>\n",
              "      <td>0.5</td>\n",
              "      <td>0.5</td>\n",
              "      <td>0.0</td>\n",
              "      <td>1.0</td>\n",
              "      <td>1.0</td>\n",
              "      <td>1.0</td>\n",
              "      <td>0.000000</td>\n",
              "      <td>0.666667</td>\n",
              "      <td>0.5</td>\n",
              "      <td>1.0</td>\n",
              "      <td>0.814815</td>\n",
              "    </tr>\n",
              "  </tbody>\n",
              "</table>\n",
              "</div>"
            ],
            "text/plain": [
              "       RELY      DATA  CPLX      TIME  ...      MODP  TOOL  SCED       LOC\n",
              "0  0.666667  0.333333  0.25  0.666667  ...  0.666667   0.5   1.0  0.759259\n",
              "1  0.666667  0.333333  0.25  0.666667  ...  0.666667   0.5   1.0  0.425926\n",
              "2  0.000000  0.333333  0.25  0.666667  ...  0.000000   0.5   0.5  0.203704\n",
              "3  0.000000  0.666667  0.25  0.666667  ...  0.666667   0.5   1.0  0.074074\n",
              "4  0.666667  0.333333  0.25  0.666667  ...  0.666667   0.5   1.0  0.814815\n",
              "\n",
              "[5 rows x 16 columns]"
            ]
          },
          "metadata": {
            "tags": []
          },
          "execution_count": 21
        }
      ]
    },
    {
      "cell_type": "code",
      "metadata": {
        "id": "itiXC5D-WURe",
        "outputId": "ac1d50d5-b945-45e8-fe82-a2199c7283ce",
        "colab": {
          "base_uri": "https://localhost:8080/"
        }
      },
      "source": [
        "X = data\n",
        "y = df['ACT_EFFORT']\n",
        "print(X.shape, y.shape)"
      ],
      "execution_count": 117,
      "outputs": [
        {
          "output_type": "stream",
          "text": [
            "(60, 16) (60,)\n"
          ],
          "name": "stdout"
        }
      ]
    },
    {
      "cell_type": "code",
      "metadata": {
        "id": "ylhtVecl-5kT",
        "outputId": "c1ac7b8c-9359-4b93-caf1-df3d479ff559",
        "colab": {
          "base_uri": "https://localhost:8080/"
        }
      },
      "source": [
        "# Apply feature subset selection techniques \n",
        "X_new = SelectKBest(f_regression, k=8).fit_transform(X, y)\n",
        "X_new.shape"
      ],
      "execution_count": 183,
      "outputs": [
        {
          "output_type": "execute_result",
          "data": {
            "text/plain": [
              "(60, 8)"
            ]
          },
          "metadata": {
            "tags": []
          },
          "execution_count": 183
        }
      ]
    },
    {
      "cell_type": "code",
      "metadata": {
        "id": "13owZH7mIpZp"
      },
      "source": [
        "# Divide the dataset to training and testing set\n",
        "X_train, X_test, y_train, y_test = train_test_split(X_new, y, test_size = 0.25, random_state = 123)"
      ],
      "execution_count": 184,
      "outputs": []
    },
    {
      "cell_type": "code",
      "metadata": {
        "id": "j1PZBRFTXXmL",
        "outputId": "2d28eb2b-8ea6-46ad-dcc0-dc22ae91ca3a",
        "colab": {
          "base_uri": "https://localhost:8080/"
        }
      },
      "source": [
        "print(X_train.shape, y_train.shape)\n",
        "print(X_test.shape, y_test.shape)"
      ],
      "execution_count": 185,
      "outputs": [
        {
          "output_type": "stream",
          "text": [
            "(45, 8) (45,)\n",
            "(15, 8) (15,)\n"
          ],
          "name": "stdout"
        }
      ]
    },
    {
      "cell_type": "code",
      "metadata": {
        "id": "nkHh00QCI8Lu"
      },
      "source": [
        "from sklearn.svm import SVR\n",
        "from sklearn.linear_model import LinearRegression\n",
        "from sklearn.tree import DecisionTreeRegressor"
      ],
      "execution_count": 186,
      "outputs": []
    },
    {
      "cell_type": "code",
      "metadata": {
        "id": "-KEJ1BB8a5xQ"
      },
      "source": [
        "# Build regression models \n",
        "# SVR, Linear regression and Decision tree\n",
        "clf1 = SVR(kernel='linear')\n",
        "clf2 = LinearRegression()\n",
        "clf3 = DecisionTreeRegressor(criterion='mse')"
      ],
      "execution_count": 187,
      "outputs": []
    },
    {
      "cell_type": "code",
      "metadata": {
        "id": "vWk2WTB0KAsX",
        "outputId": "969aa005-d52e-4405-915e-2071e7268cac",
        "colab": {
          "base_uri": "https://localhost:8080/"
        }
      },
      "source": [
        "clf1.fit(X_train, y_train)\n",
        "clf2.fit(X_train, y_train)\n",
        "clf3.fit(X_train, y_train)"
      ],
      "execution_count": 188,
      "outputs": [
        {
          "output_type": "execute_result",
          "data": {
            "text/plain": [
              "DecisionTreeRegressor(ccp_alpha=0.0, criterion='mse', max_depth=None,\n",
              "                      max_features=None, max_leaf_nodes=None,\n",
              "                      min_impurity_decrease=0.0, min_impurity_split=None,\n",
              "                      min_samples_leaf=1, min_samples_split=2,\n",
              "                      min_weight_fraction_leaf=0.0, presort='deprecated',\n",
              "                      random_state=None, splitter='best')"
            ]
          },
          "metadata": {
            "tags": []
          },
          "execution_count": 188
        }
      ]
    },
    {
      "cell_type": "code",
      "metadata": {
        "id": "jOIhehoYbSsJ"
      },
      "source": [
        "# Evaluate the build model on test dataset\n",
        "pred1_t1 = clf1.predict(X_train)\n",
        "pred1_t2 = clf1.predict(X_test)\n",
        "pred2_t1 = clf2.predict(X_train)\n",
        "pred2_t2 = clf2.predict(X_test)\n",
        "pred3_t1 = clf3.predict(X_train)\n",
        "pred3_t2 = clf3.predict(X_test)"
      ],
      "execution_count": 189,
      "outputs": []
    },
    {
      "cell_type": "code",
      "metadata": {
        "id": "Un4FA54uLFY4"
      },
      "source": [
        "from sklearn.metrics import r2_score\n",
        "from sklearn.metrics import mean_squared_error"
      ],
      "execution_count": 190,
      "outputs": []
    },
    {
      "cell_type": "code",
      "metadata": {
        "id": "XUBOrqrbbX-u"
      },
      "source": [
        "# Evaluate training and testing coefficient of determination and root mean squre error\n",
        "r2_1_t1 = r2_score(y_train, pred1_t1)\n",
        "r2_1_t2 = r2_score(y_test, pred1_t2)\n",
        "r2_2_t1 = r2_score(y_train, pred2_t1)\n",
        "r2_2_t2 = r2_score(y_test, pred2_t2)\n",
        "r2_3_t1 = r2_score(y_train, pred3_t1)\n",
        "r2_3_t2 = r2_score(y_test, pred3_t2)"
      ],
      "execution_count": 191,
      "outputs": []
    },
    {
      "cell_type": "code",
      "metadata": {
        "id": "mnvKQvoUK2VA"
      },
      "source": [
        "rmse1_t1 = mean_squared_error(y_train, pred1_t1, squared=False)\n",
        "rmse1_t2 = mean_squared_error(y_test, pred1_t2, squared=False)\n",
        "rmse2_t1 = mean_squared_error(y_train, pred2_t1, squared=False)\n",
        "rmse2_t2 = mean_squared_error(y_test, pred2_t2, squared=False)\n",
        "rmse3_t1 = mean_squared_error(y_train, pred3_t1, squared=False)\n",
        "rmse3_t2 = mean_squared_error(y_test, pred3_t2, squared=False)"
      ],
      "execution_count": 192,
      "outputs": []
    },
    {
      "cell_type": "code",
      "metadata": {
        "id": "LD2fGbOjLsVn",
        "outputId": "5ca02320-4ff4-465f-c780-03cff0838d5a",
        "colab": {
          "base_uri": "https://localhost:8080/"
        }
      },
      "source": [
        "print(\"Training R2 Score (SVR):\",r2_1_t1)\n",
        "print(\"Testing R2 Score (SVR):\",r2_1_t2)\n",
        "print(\"Training R2 Score (Linear Regression):\",r2_2_t1)\n",
        "print(\"Testing R2 Score (Linear Regression):\",r2_2_t2)\n",
        "print(\"Training R2 Score (Decision Tree):\",r2_3_t1)\n",
        "print(\"Testing R2 Score (Decision Tree):\",r2_3_t2)"
      ],
      "execution_count": 193,
      "outputs": [
        {
          "output_type": "stream",
          "text": [
            "Training R2 Score (SVR): -0.17223976933988427\n",
            "Testing R2 Score (SVR): -0.21958629537979868\n",
            "Training R2 Score (Linear Regression): 0.5837204842907424\n",
            "Testing R2 Score (Linear Regression): 0.49239916906649206\n",
            "Training R2 Score (Decision Tree): 0.999985222455648\n",
            "Testing R2 Score (Decision Tree): 0.6844886060607711\n"
          ],
          "name": "stdout"
        }
      ]
    },
    {
      "cell_type": "code",
      "metadata": {
        "id": "5Uopm9D1Lwc6",
        "outputId": "f4d2900b-babd-4fd1-f747-87a6be1fa04c",
        "colab": {
          "base_uri": "https://localhost:8080/"
        }
      },
      "source": [
        "print(\"Training RMSE (SVR):\",rmse1_t1)\n",
        "print(\"Testing RMSE (SVR):\",rmse1_t2)\n",
        "print(\"Training RMSE (Linear Regression):\",rmse2_t1)\n",
        "print(\"Testing RMSE (Linear Regression):\",rmse2_t2)\n",
        "print(\"Training RMSE (Decision Tree):\",rmse3_t1)\n",
        "print(\"Testing RMSE (Decision Tree):\",rmse3_t2)"
      ],
      "execution_count": 194,
      "outputs": [
        {
          "output_type": "stream",
          "text": [
            "Training RMSE (SVR): 712.5200288682679\n",
            "Testing RMSE (SVR): 696.7488572097509\n",
            "Training RMSE (Linear Regression): 424.6013509036133\n",
            "Testing RMSE (Linear Regression): 449.50151466139135\n",
            "Training RMSE (Decision Tree): 2.5298221281347035\n",
            "Testing RMSE (Decision Tree): 354.3867868116229\n"
          ],
          "name": "stdout"
        }
      ]
    },
    {
      "cell_type": "markdown",
      "metadata": {
        "id": "9hZF7xcjbdAF"
      },
      "source": [
        "##Task 2: Ensemble regression models\n"
      ]
    },
    {
      "cell_type": "code",
      "metadata": {
        "id": "GHOGKAXiCsSN",
        "outputId": "76485628-8198-4335-d1c8-6d4581afb4b1",
        "colab": {
          "base_uri": "https://localhost:8080/"
        }
      },
      "source": [
        "# Ensemble the regression models\n",
        "estimators = []\n",
        "estimators.append(('SVR', clf1))\n",
        "estimators.append(('Linear Regression', clf2))\n",
        "estimators.append(('Decision Tree', clf3))\n",
        "estimators"
      ],
      "execution_count": 195,
      "outputs": [
        {
          "output_type": "execute_result",
          "data": {
            "text/plain": [
              "[('SVR',\n",
              "  SVR(C=1.0, cache_size=200, coef0=0.0, degree=3, epsilon=0.1, gamma='scale',\n",
              "      kernel='linear', max_iter=-1, shrinking=True, tol=0.001, verbose=False)),\n",
              " ('Linear Regression',\n",
              "  LinearRegression(copy_X=True, fit_intercept=True, n_jobs=None, normalize=False)),\n",
              " ('Decision Tree',\n",
              "  DecisionTreeRegressor(ccp_alpha=0.0, criterion='mse', max_depth=None,\n",
              "                        max_features=None, max_leaf_nodes=None,\n",
              "                        min_impurity_decrease=0.0, min_impurity_split=None,\n",
              "                        min_samples_leaf=1, min_samples_split=2,\n",
              "                        min_weight_fraction_leaf=0.0, presort='deprecated',\n",
              "                        random_state=None, splitter='best'))]"
            ]
          },
          "metadata": {
            "tags": []
          },
          "execution_count": 195
        }
      ]
    },
    {
      "cell_type": "code",
      "metadata": {
        "id": "28C0c_3MPDd6"
      },
      "source": [
        "from sklearn.ensemble import VotingRegressor"
      ],
      "execution_count": 196,
      "outputs": []
    },
    {
      "cell_type": "code",
      "metadata": {
        "id": "m3qsdYW5PINt",
        "outputId": "881fbd37-4bf9-43a8-976a-cc727fb55ec6",
        "colab": {
          "base_uri": "https://localhost:8080/"
        }
      },
      "source": [
        "ensemble = VotingRegressor(estimators)\n",
        "ensemble.fit(X_train, y_train)"
      ],
      "execution_count": 197,
      "outputs": [
        {
          "output_type": "execute_result",
          "data": {
            "text/plain": [
              "VotingRegressor(estimators=[('SVR',\n",
              "                             SVR(C=1.0, cache_size=200, coef0=0.0, degree=3,\n",
              "                                 epsilon=0.1, gamma='scale', kernel='linear',\n",
              "                                 max_iter=-1, shrinking=True, tol=0.001,\n",
              "                                 verbose=False)),\n",
              "                            ('Linear Regression',\n",
              "                             LinearRegression(copy_X=True, fit_intercept=True,\n",
              "                                              n_jobs=None, normalize=False)),\n",
              "                            ('Decision Tree',\n",
              "                             DecisionTreeRegressor(ccp_alpha=0.0,\n",
              "                                                   criterion='mse',\n",
              "                                                   max_depth=None,\n",
              "                                                   max_features=None,\n",
              "                                                   max_leaf_nodes=None,\n",
              "                                                   min_impurity_decrease=0.0,\n",
              "                                                   min_impurity_split=None,\n",
              "                                                   min_samples_leaf=1,\n",
              "                                                   min_samples_split=2,\n",
              "                                                   min_weight_fraction_leaf=0.0,\n",
              "                                                   presort='deprecated',\n",
              "                                                   random_state=None,\n",
              "                                                   splitter='best'))],\n",
              "                n_jobs=None, weights=None)"
            ]
          },
          "metadata": {
            "tags": []
          },
          "execution_count": 197
        }
      ]
    },
    {
      "cell_type": "code",
      "metadata": {
        "id": "VkF-mPn0PNMZ"
      },
      "source": [
        "pred_t1 = ensemble.predict(X_train)\n",
        "pred_t2 = ensemble.predict(X_test)"
      ],
      "execution_count": 198,
      "outputs": []
    },
    {
      "cell_type": "code",
      "metadata": {
        "id": "-Gue0Z-p_WXw"
      },
      "source": [
        "# Evaluate Coefficient of determination and Root mean square error \n",
        "r2_t1 = r2_score(y_train, pred_t1)\n",
        "r2_t2 = r2_score(y_test, pred_t2)\n",
        "rmse_t1 = mean_squared_error(y_train, pred_t1, squared=False)\n",
        "rmse_t2 = mean_squared_error(y_test, pred_t2, squared=False)"
      ],
      "execution_count": 199,
      "outputs": []
    },
    {
      "cell_type": "code",
      "metadata": {
        "id": "e80WV2EYP2O0",
        "outputId": "22ebd85a-72b2-441a-ecdb-176cf9f83d90",
        "colab": {
          "base_uri": "https://localhost:8080/"
        }
      },
      "source": [
        "print(\"Training R2 Score (Ensemble):\",r2_t1)\n",
        "print(\"Testing R2 Score (Ensemble):\",r2_t2)\n",
        "print(\"Training RMSE (Ensemble):\",rmse_t1)\n",
        "print(\"Testing RMSE (Ensemble):\",rmse_t2)"
      ],
      "execution_count": 200,
      "outputs": [
        {
          "output_type": "stream",
          "text": [
            "Training R2 Score (Ensemble): 0.7309830884233982\n",
            "Testing R2 Score (Ensemble): 0.7372252159797692\n",
            "Training RMSE (Ensemble): 341.3332866383362\n",
            "Testing RMSE (Ensemble): 323.4162530061874\n"
          ],
          "name": "stdout"
        }
      ]
    },
    {
      "cell_type": "markdown",
      "metadata": {
        "id": "EPw_-SMyrka_"
      },
      "source": [
        "\n",
        "##Task 3: Conclude the results\n"
      ]
    },
    {
      "cell_type": "markdown",
      "metadata": {
        "id": "l52rMG0xI1ax"
      },
      "source": [
        "We can see that, on an average, the Ensemble model (combination of clf1, clf2 and clf3) performs better than any other model used on an individual basis (SVR, Linear Regression and Decision Tree) in terms of the regression metrics - RMSE, R2 Score"
      ]
    }
  ]
}