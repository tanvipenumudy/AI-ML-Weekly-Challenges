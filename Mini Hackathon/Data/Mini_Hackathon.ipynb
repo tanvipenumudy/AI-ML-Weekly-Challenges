{
  "nbformat": 4,
  "nbformat_minor": 0,
  "metadata": {
    "colab": {
      "name": "Mini Hackothon.ipynb",
      "provenance": [],
      "collapsed_sections": []
    },
    "kernelspec": {
      "name": "python3",
      "display_name": "Python 3"
    }
  },
  "cells": [
    {
      "cell_type": "markdown",
      "metadata": {
        "id": "DtoRKY9zOxMf"
      },
      "source": [
        "Name- \n",
        "\n",
        "EnrollmentNo- "
      ]
    },
    {
      "cell_type": "markdown",
      "metadata": {
        "id": "ZTlXlj8xAzxC"
      },
      "source": [
        "**Placement prediction for vocational training (short term training)**\n",
        "\n",
        "Problem statement:\n",
        "In this hackthon we will solve the placement prediction problem. Placement prediction has been done in two stage, first at the time of admission, second when training completed and result is availble.\n",
        "\n",
        "**Prediction at admission time:** In probem 1. column 17(Result) and 18(certificate) will not used as input feature.  \n",
        "\n",
        "**Prediction with result:** In probem 2. both Result and certificate will be included during prediction. \n",
        "\n",
        "**About Data**\n",
        "\n",
        " The feature of the data set are as follows:\n",
        "1. Gender\n",
        "2. agegroup\t\n",
        "3. EducationLevel\t\n",
        "4. TypeofDisability\t\n",
        "5. castecategory\t\n",
        "6. Religion\t\n",
        "7. Candidate State\t\n",
        "8. Candidate District\t\n",
        "9. PartnerName\t\n",
        "10. TC State\t\n",
        "11. TC District\t\n",
        "12. TC Constituency\t\n",
        "13. TC Name\t\n",
        "14. SectorName\t\n",
        "15. JobRole\t\n",
        "16. TotalCandidatesinBatch\t\n",
        "17. Result\t\n",
        "18. Certified\t\n",
        "\t\n",
        "Target column **placed**\n",
        "\n",
        "\"placed\": {\"Yes\": 1, \"No\": 2}\n",
        "\n",
        "All the columns in dataset converted into numbers with label encoding. \n",
        "\n",
        "You will get four csv file named as \n",
        "For probelm 1\n",
        "\n",
        "1. trainadmission.csv\n",
        "2. testadmission.csv\n",
        "\n",
        "For problem2\n",
        "\n",
        "3. trainresult.csv\n",
        "4. testresult.csv\n",
        "\n",
        "Submission or result and code:\n",
        "\n",
        "you are suppose to submit two csv file:\n",
        "\n",
        "1. \"enrollmentno\"_testadmission.csv\n",
        "2. \"enrollmentno\"_testresult.csv\n",
        "\n",
        "3. \"enrollmentno\"_hack1.ipynb  (python Notebook/ python file)\n",
        "\n",
        "both the submission includes placed column in test file at the end. \n",
        "\n",
        "Best wishes"
      ]
    },
    {
      "cell_type": "code",
      "metadata": {
        "id": "WwAF3CgxYXLe"
      },
      "source": [
        "#Start your code!!"
      ],
      "execution_count": null,
      "outputs": []
    }
  ]
}