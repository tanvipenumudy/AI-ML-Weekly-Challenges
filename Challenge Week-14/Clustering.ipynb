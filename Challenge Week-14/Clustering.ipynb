{
  "nbformat": 4,
  "nbformat_minor": 0,
  "metadata": {
    "colab": {
      "name": "Clustering E18CSE187 Tanvi P.ipynb",
      "provenance": [],
      "collapsed_sections": []
    },
    "kernelspec": {
      "name": "python3",
      "display_name": "Python 3"
    }
  },
  "cells": [
    {
      "cell_type": "markdown",
      "metadata": {
        "id": "j_ktHZ63IB2Y"
      },
      "source": [
        "#Objective: To demonstrates the concept of clustering techniques\n",
        "\n",
        "\n",
        "\n",
        "\n",
        "\n"
      ]
    },
    {
      "cell_type": "markdown",
      "metadata": {
        "id": "n66r95EDKESF"
      },
      "source": [
        "#Clustering\n",
        "\n",
        "It is the task of partitioning the dataset into groups, called clusters. The goal is to split up the data ins such a way that points within a single cluster are very similar and points in a different cluster are different\n",
        "\n",
        "##K-means clustering\n",
        "•\tTries to find cluster centers that are representative of certain regions of the data\n",
        "\n",
        "•\tAlternates between two steps: assigning each data point to the closest cluster center, and then setting each cluster center as the mean of the data points that are assigned to it\n",
        "\n",
        "•\tThe algorithm is finished when the assignment of instances to clusters no longer changes\n",
        "\n",
        "##Hierarchical clustering\n",
        "Hierarchical methods can be either divisive or agglomerative. A hierarchical clustering is a set of nested clusters that are arranged as a tree.\n",
        "In hierarchical clustering one can stop at any number of clusters, one finds appropriate by interpreting the dendrogram.\n",
        "\n",
        "Agglomerative methods begin with ‘n’ clusters and sequentially combine similar clusters until only one cluster is obtained.\n",
        "\n",
        "Divisive methods work in the opposite direction, beginning with one cluster that includes all the records and Hierarchical methods are especially useful when the target is to arrange the clusters into a natural hierarchy.\n",
        "In Hierarchical Clustering, results are reproducible in Hierarchical clustering. Hierarchical clustering don’t work as well as, k means when the shape of the clusters is hyper spherical.\n",
        "\n",
        "##DBSCAN\n",
        "Stands for “density based spatial clustering of applications with noise”\n",
        "\n",
        "•\tdoes not require the user to set the number of clusters a priori\n",
        "\n",
        "•\tcan capture clusters of complex shapes\n",
        "\n",
        "•\tcan identify points that are not part of any cluster (very useful as outliers detector)\n",
        "\n",
        "•\tis somewhat slower than agglomerative clustering and k-means, but still scales to relatively large datasets.\n",
        "\n",
        "•\tworks by identifying points that are in crowded regions of the feature space, where many data points are close together (dense regions in feature space)\n",
        "\n",
        "•\tPoints that are within a dense region are called core samples (or core points)\n",
        "\n",
        "•\tThere are two parameters in DBSCAN: min_samples and eps\n",
        "\n",
        "•\tIf there are at least min_samples many data points within a distance of eps to a given data point, that data point is classified as a core sample\n",
        "\n",
        "•\tcore samples that are closer to each other than the distance eps are put into the same cluster by DBSCAN."
      ]
    },
    {
      "cell_type": "markdown",
      "metadata": {
        "id": "y4fbtyKGJ_4Q"
      },
      "source": [
        "# Dataset 1 for k-means and hierarchical clustering:\n",
        " The dataset consists of Annual income (in $000) and their total spend (in $000) on an e-commerce site for a period of one year. Let us explore the data using numpy and pandas libraries in python.\n",
        "\n",
        "##Attributes:\n",
        "1. CustomerID: It is the unique ID given to a customer\n",
        "2. Gender: Gender of the customer\n",
        "3. Age: The age of the customer\n",
        "4. Annual Income(k$): It is the annual income of the customer\n",
        "5. Spending Score: It is the score(out of 100) given to a customer by the mall authorities, based on the money spent and the behavior of the customer.\n",
        "\n",
        "##Source\n",
        "https://www.kaggle.com/akram24/mall-customers"
      ]
    },
    {
      "cell_type": "markdown",
      "metadata": {
        "id": "emfRcIvTJ9Bs"
      },
      "source": [
        "#Dataset 2: Credit Card Dataset for Clustering for DBSCAN\n",
        "\n",
        "This case requires to develop a customer segmentation to define marketing strategy. The sample Dataset summarizes the usage behavior of about 9000 active credit card holders during the last 6 months. The file is at a customer level with 18 behavioral variables.\n",
        "\n",
        "##Attributes:\n",
        "1.\tCUSTID : Identification of Credit Card holder (Categorical)\n",
        "2.\tBALANCE : Balance amount left in their account to make purchases (\n",
        "3.\tBALANCEFREQUENCY : How frequently the Balance is updated, score between 0 and 1 (1 = frequently updated, 0 = not frequently updated)\n",
        "4.\tPURCHASES : Amount of purchases made from account\n",
        "5.\tONEOFFPURCHASES : Maximum purchase amount done in one-go\n",
        "6.\tINSTALLMENTSPURCHASES : Amount of purchase done in installment\n",
        "7.\tCASHADVANCE : Cash in advance given by the user\n",
        "8.\tPURCHASESFREQUENCY : How frequently the Purchases are being made, score between 0 and 1 (1 = frequently purchased, 0 = not frequently purchased)\n",
        "9.\tONEOFFPURCHASESFREQUENCY : How frequently Purchases are happening in one-go (1 = frequently purchased, 0 = not frequently purchased)\n",
        "10.\tPURCHASESINSTALLMENTSFREQUENCY : How frequently purchases in installments are being done (1 = frequently done, 0 = not frequently done)\n",
        "11.\tCASHADVANCEFREQUENCY : How frequently the cash in advance being paid\n",
        "12.\tCASHADVANCETRX : Number of Transactions made with \"Cash in Advanced\"\n",
        "13.\tPURCHASESTRX : Numbe of purchase transactions made\n",
        "14.\tCREDITLIMIT : Limit of Credit Card for user\n",
        "15.\tPAYMENTS : Amount of Payment done by user\n",
        "16.\tMINIMUM_PAYMENTS : Minimum amount of payments made by user\n",
        "17.\tPRCFULLPAYMENT : Percent of full payment paid by user\n",
        "18.\tTENURE : Tenure of credit card service for user\n",
        "\n",
        "##Source \n",
        "https://www.kaggle.com/arjunbhasin2013/ccdata"
      ]
    },
    {
      "cell_type": "markdown",
      "metadata": {
        "id": "YbytICfvJ5Oc"
      },
      "source": [
        "###Task 1: K Means Clustering\n",
        "1.\tObtain the dataset.\n",
        "2.\tSelect the potential features for clustering such as Annual Income and Spending Score.\n",
        "3.\tDefine the value of K\n",
        "4.\tApply K–means clustering\n",
        "5.\tVisualize the clusters\n",
        "6.\tScale the value of K and visualize the clusters\n",
        "7.\tObtain the optimal number of clusters by using the Elbow method and visualize the clusters\n",
        "\n",
        "### Task 2: Hierarchical clustering\n",
        "1.\tObtain the dataset\n",
        "2.\tSelect the potential features for clustering such as Annual Income and Spending Score.\n",
        "3.\tImplement dendrogram to obtain the optimal numbers of clusters\n",
        "4.\tApply hierarchical clustering on the data\n",
        "5.\tVisualize the clusters\n",
        "\n",
        "\n",
        "### Task 3: DBSCAN\n",
        "1.\tLoad the dataset\n",
        "2.\tDrop customer ID from the dataset\n",
        "3.\tHandle missing values\n",
        "4.\tApply data pre-processing techniques\n",
        "5.\t Reducing the dimensionality of the data by using PCA\n",
        "6.\tBuild DBSCAN model\n",
        "7.\tVisualize the clusters\n",
        "8.\tTune the parameters of DBSCAN\n",
        "\n",
        "### Optional (not included in evaluation)\n",
        "1.\tMeasure the performance using adjusted_rand_score. \n",
        "2.\tApply improved versions of k-means and DBSCAN algorithms"
      ]
    },
    {
      "cell_type": "markdown",
      "metadata": {
        "id": "LKHamscxJ0qP"
      },
      "source": [
        "## Suggested links:\n",
        "Difference between various clustering approaches please see:\n",
        "https://scikit-learn.org/stable/modules/clustering.html\n",
        "\n",
        "https://www.kdnuggets.com/2020/04/dbscan-clustering-algorithm-machine-learning.html\n",
        "\n",
        "https://towardsdatascience.com/dbscan-algorithm-complete-guide-and-application-with-python-scikit-learn-d690cbae4c5d\n",
        "https://towardsdatascience.com/dbscan-clustering-for-data-shapes-k-means-cant-handle-well-in-python-6be89af4e6ea\n",
        "https://www.analyticsvidhya.com/blog/2020/09/how-dbscan-clustering-works/\n"
      ]
    },
    {
      "cell_type": "markdown",
      "metadata": {
        "id": "QZO4sj9wIhlY"
      },
      "source": [
        "##Task 1: K Means Clustering"
      ]
    },
    {
      "cell_type": "code",
      "metadata": {
        "id": "padlDtrUIYvw",
        "outputId": "be8852f1-bfff-4b25-b1b9-e9fb69318300",
        "colab": {
          "base_uri": "https://localhost:8080/",
          "height": 404
        }
      },
      "source": [
        "#Obtain the dataset.\n",
        "import pandas as pd\n",
        "import numpy as np\n",
        "data = pd.read_csv('Mall_Customers.csv')\n",
        "data"
      ],
      "execution_count": 155,
      "outputs": [
        {
          "output_type": "execute_result",
          "data": {
            "text/html": [
              "<div>\n",
              "<style scoped>\n",
              "    .dataframe tbody tr th:only-of-type {\n",
              "        vertical-align: middle;\n",
              "    }\n",
              "\n",
              "    .dataframe tbody tr th {\n",
              "        vertical-align: top;\n",
              "    }\n",
              "\n",
              "    .dataframe thead th {\n",
              "        text-align: right;\n",
              "    }\n",
              "</style>\n",
              "<table border=\"1\" class=\"dataframe\">\n",
              "  <thead>\n",
              "    <tr style=\"text-align: right;\">\n",
              "      <th></th>\n",
              "      <th>CustomerID</th>\n",
              "      <th>Genre</th>\n",
              "      <th>Age</th>\n",
              "      <th>Annual Income (k$)</th>\n",
              "      <th>Spending Score (1-100)</th>\n",
              "    </tr>\n",
              "  </thead>\n",
              "  <tbody>\n",
              "    <tr>\n",
              "      <th>0</th>\n",
              "      <td>1</td>\n",
              "      <td>Male</td>\n",
              "      <td>19</td>\n",
              "      <td>15</td>\n",
              "      <td>39</td>\n",
              "    </tr>\n",
              "    <tr>\n",
              "      <th>1</th>\n",
              "      <td>2</td>\n",
              "      <td>Male</td>\n",
              "      <td>21</td>\n",
              "      <td>15</td>\n",
              "      <td>81</td>\n",
              "    </tr>\n",
              "    <tr>\n",
              "      <th>2</th>\n",
              "      <td>3</td>\n",
              "      <td>Female</td>\n",
              "      <td>20</td>\n",
              "      <td>16</td>\n",
              "      <td>6</td>\n",
              "    </tr>\n",
              "    <tr>\n",
              "      <th>3</th>\n",
              "      <td>4</td>\n",
              "      <td>Female</td>\n",
              "      <td>23</td>\n",
              "      <td>16</td>\n",
              "      <td>77</td>\n",
              "    </tr>\n",
              "    <tr>\n",
              "      <th>4</th>\n",
              "      <td>5</td>\n",
              "      <td>Female</td>\n",
              "      <td>31</td>\n",
              "      <td>17</td>\n",
              "      <td>40</td>\n",
              "    </tr>\n",
              "    <tr>\n",
              "      <th>...</th>\n",
              "      <td>...</td>\n",
              "      <td>...</td>\n",
              "      <td>...</td>\n",
              "      <td>...</td>\n",
              "      <td>...</td>\n",
              "    </tr>\n",
              "    <tr>\n",
              "      <th>195</th>\n",
              "      <td>196</td>\n",
              "      <td>Female</td>\n",
              "      <td>35</td>\n",
              "      <td>120</td>\n",
              "      <td>79</td>\n",
              "    </tr>\n",
              "    <tr>\n",
              "      <th>196</th>\n",
              "      <td>197</td>\n",
              "      <td>Female</td>\n",
              "      <td>45</td>\n",
              "      <td>126</td>\n",
              "      <td>28</td>\n",
              "    </tr>\n",
              "    <tr>\n",
              "      <th>197</th>\n",
              "      <td>198</td>\n",
              "      <td>Male</td>\n",
              "      <td>32</td>\n",
              "      <td>126</td>\n",
              "      <td>74</td>\n",
              "    </tr>\n",
              "    <tr>\n",
              "      <th>198</th>\n",
              "      <td>199</td>\n",
              "      <td>Male</td>\n",
              "      <td>32</td>\n",
              "      <td>137</td>\n",
              "      <td>18</td>\n",
              "    </tr>\n",
              "    <tr>\n",
              "      <th>199</th>\n",
              "      <td>200</td>\n",
              "      <td>Male</td>\n",
              "      <td>30</td>\n",
              "      <td>137</td>\n",
              "      <td>83</td>\n",
              "    </tr>\n",
              "  </tbody>\n",
              "</table>\n",
              "<p>200 rows × 5 columns</p>\n",
              "</div>"
            ],
            "text/plain": [
              "     CustomerID   Genre  Age  Annual Income (k$)  Spending Score (1-100)\n",
              "0             1    Male   19                  15                      39\n",
              "1             2    Male   21                  15                      81\n",
              "2             3  Female   20                  16                       6\n",
              "3             4  Female   23                  16                      77\n",
              "4             5  Female   31                  17                      40\n",
              "..          ...     ...  ...                 ...                     ...\n",
              "195         196  Female   35                 120                      79\n",
              "196         197  Female   45                 126                      28\n",
              "197         198    Male   32                 126                      74\n",
              "198         199    Male   32                 137                      18\n",
              "199         200    Male   30                 137                      83\n",
              "\n",
              "[200 rows x 5 columns]"
            ]
          },
          "metadata": {
            "tags": []
          },
          "execution_count": 155
        }
      ]
    },
    {
      "cell_type": "code",
      "metadata": {
        "id": "sAo2uwlngKT_"
      },
      "source": [
        "data.drop([\"CustomerID\"], axis = 1, inplace=True)"
      ],
      "execution_count": 156,
      "outputs": []
    },
    {
      "cell_type": "code",
      "metadata": {
        "id": "a_gftgnsilGe",
        "outputId": "49c36a74-5cc0-4030-be8a-af4fc9c598d9",
        "colab": {
          "base_uri": "https://localhost:8080/"
        }
      },
      "source": [
        "data.info()"
      ],
      "execution_count": 157,
      "outputs": [
        {
          "output_type": "stream",
          "text": [
            "<class 'pandas.core.frame.DataFrame'>\n",
            "RangeIndex: 200 entries, 0 to 199\n",
            "Data columns (total 4 columns):\n",
            " #   Column                  Non-Null Count  Dtype \n",
            "---  ------                  --------------  ----- \n",
            " 0   Genre                   200 non-null    object\n",
            " 1   Age                     200 non-null    int64 \n",
            " 2   Annual Income (k$)      200 non-null    int64 \n",
            " 3   Spending Score (1-100)  200 non-null    int64 \n",
            "dtypes: int64(3), object(1)\n",
            "memory usage: 6.4+ KB\n"
          ],
          "name": "stdout"
        }
      ]
    },
    {
      "cell_type": "code",
      "metadata": {
        "id": "-VqFDE8GgRL0",
        "outputId": "a5c5e9fb-9e17-405d-8bc4-d20f9febd583",
        "colab": {
          "base_uri": "https://localhost:8080/",
          "height": 196
        }
      },
      "source": [
        "data.head()"
      ],
      "execution_count": 158,
      "outputs": [
        {
          "output_type": "execute_result",
          "data": {
            "text/html": [
              "<div>\n",
              "<style scoped>\n",
              "    .dataframe tbody tr th:only-of-type {\n",
              "        vertical-align: middle;\n",
              "    }\n",
              "\n",
              "    .dataframe tbody tr th {\n",
              "        vertical-align: top;\n",
              "    }\n",
              "\n",
              "    .dataframe thead th {\n",
              "        text-align: right;\n",
              "    }\n",
              "</style>\n",
              "<table border=\"1\" class=\"dataframe\">\n",
              "  <thead>\n",
              "    <tr style=\"text-align: right;\">\n",
              "      <th></th>\n",
              "      <th>Genre</th>\n",
              "      <th>Age</th>\n",
              "      <th>Annual Income (k$)</th>\n",
              "      <th>Spending Score (1-100)</th>\n",
              "    </tr>\n",
              "  </thead>\n",
              "  <tbody>\n",
              "    <tr>\n",
              "      <th>0</th>\n",
              "      <td>Male</td>\n",
              "      <td>19</td>\n",
              "      <td>15</td>\n",
              "      <td>39</td>\n",
              "    </tr>\n",
              "    <tr>\n",
              "      <th>1</th>\n",
              "      <td>Male</td>\n",
              "      <td>21</td>\n",
              "      <td>15</td>\n",
              "      <td>81</td>\n",
              "    </tr>\n",
              "    <tr>\n",
              "      <th>2</th>\n",
              "      <td>Female</td>\n",
              "      <td>20</td>\n",
              "      <td>16</td>\n",
              "      <td>6</td>\n",
              "    </tr>\n",
              "    <tr>\n",
              "      <th>3</th>\n",
              "      <td>Female</td>\n",
              "      <td>23</td>\n",
              "      <td>16</td>\n",
              "      <td>77</td>\n",
              "    </tr>\n",
              "    <tr>\n",
              "      <th>4</th>\n",
              "      <td>Female</td>\n",
              "      <td>31</td>\n",
              "      <td>17</td>\n",
              "      <td>40</td>\n",
              "    </tr>\n",
              "  </tbody>\n",
              "</table>\n",
              "</div>"
            ],
            "text/plain": [
              "    Genre  Age  Annual Income (k$)  Spending Score (1-100)\n",
              "0    Male   19                  15                      39\n",
              "1    Male   21                  15                      81\n",
              "2  Female   20                  16                       6\n",
              "3  Female   23                  16                      77\n",
              "4  Female   31                  17                      40"
            ]
          },
          "metadata": {
            "tags": []
          },
          "execution_count": 158
        }
      ]
    },
    {
      "cell_type": "code",
      "metadata": {
        "id": "nGqOcpmeglkj"
      },
      "source": [
        "from mpl_toolkits.mplot3d import Axes3D\n",
        "import matplotlib.pyplot as plt\n",
        "import seaborn as sns"
      ],
      "execution_count": 159,
      "outputs": []
    },
    {
      "cell_type": "code",
      "metadata": {
        "id": "hibcB-wGIsah",
        "outputId": "ad989427-6d4e-4996-8248-55f1d0dfb4a7",
        "colab": {
          "base_uri": "https://localhost:8080/",
          "height": 575
        }
      },
      "source": [
        "#Select the potential features for clustering such as Annual Income and Spending Score.\n",
        "\n",
        "sns.set_style(\"white\")\n",
        "fig = plt.figure(figsize=(20,10))\n",
        "ax = fig.add_subplot(111, projection='3d')\n",
        "ax.scatter(data.Age, data[\"Annual Income (k$)\"], data[\"Spending Score (1-100)\"], c='blue', s=60)\n",
        "ax.view_init(30, 185)\n",
        "plt.xlabel(\"Age\")\n",
        "plt.ylabel(\"Annual Income (k$)\")\n",
        "ax.set_zlabel('Spending Score (1-100)')\n",
        "plt.show()"
      ],
      "execution_count": 160,
      "outputs": [
        {
          "output_type": "display_data",
          "data": {
            "image/png": "[encoded data removed]",
            "text/plain": [
              "<Figure size 1440x720 with 1 Axes>"
            ]
          },
          "metadata": {
            "tags": []
          }
        }
      ]
    },
    {
      "cell_type": "code",
      "metadata": {
        "id": "sFRQHn6YhQv2",
        "outputId": "96284386-8303-412a-987c-6969e96b23c1",
        "colab": {
          "base_uri": "https://localhost:8080/",
          "height": 404
        }
      },
      "source": [
        "x=data.iloc[:,[2,3]]\n",
        "x"
      ],
      "execution_count": 161,
      "outputs": [
        {
          "output_type": "execute_result",
          "data": {
            "text/html": [
              "<div>\n",
              "<style scoped>\n",
              "    .dataframe tbody tr th:only-of-type {\n",
              "        vertical-align: middle;\n",
              "    }\n",
              "\n",
              "    .dataframe tbody tr th {\n",
              "        vertical-align: top;\n",
              "    }\n",
              "\n",
              "    .dataframe thead th {\n",
              "        text-align: right;\n",
              "    }\n",
              "</style>\n",
              "<table border=\"1\" class=\"dataframe\">\n",
              "  <thead>\n",
              "    <tr style=\"text-align: right;\">\n",
              "      <th></th>\n",
              "      <th>Annual Income (k$)</th>\n",
              "      <th>Spending Score (1-100)</th>\n",
              "    </tr>\n",
              "  </thead>\n",
              "  <tbody>\n",
              "    <tr>\n",
              "      <th>0</th>\n",
              "      <td>15</td>\n",
              "      <td>39</td>\n",
              "    </tr>\n",
              "    <tr>\n",
              "      <th>1</th>\n",
              "      <td>15</td>\n",
              "      <td>81</td>\n",
              "    </tr>\n",
              "    <tr>\n",
              "      <th>2</th>\n",
              "      <td>16</td>\n",
              "      <td>6</td>\n",
              "    </tr>\n",
              "    <tr>\n",
              "      <th>3</th>\n",
              "      <td>16</td>\n",
              "      <td>77</td>\n",
              "    </tr>\n",
              "    <tr>\n",
              "      <th>4</th>\n",
              "      <td>17</td>\n",
              "      <td>40</td>\n",
              "    </tr>\n",
              "    <tr>\n",
              "      <th>...</th>\n",
              "      <td>...</td>\n",
              "      <td>...</td>\n",
              "    </tr>\n",
              "    <tr>\n",
              "      <th>195</th>\n",
              "      <td>120</td>\n",
              "      <td>79</td>\n",
              "    </tr>\n",
              "    <tr>\n",
              "      <th>196</th>\n",
              "      <td>126</td>\n",
              "      <td>28</td>\n",
              "    </tr>\n",
              "    <tr>\n",
              "      <th>197</th>\n",
              "      <td>126</td>\n",
              "      <td>74</td>\n",
              "    </tr>\n",
              "    <tr>\n",
              "      <th>198</th>\n",
              "      <td>137</td>\n",
              "      <td>18</td>\n",
              "    </tr>\n",
              "    <tr>\n",
              "      <th>199</th>\n",
              "      <td>137</td>\n",
              "      <td>83</td>\n",
              "    </tr>\n",
              "  </tbody>\n",
              "</table>\n",
              "<p>200 rows × 2 columns</p>\n",
              "</div>"
            ],
            "text/plain": [
              "     Annual Income (k$)  Spending Score (1-100)\n",
              "0                    15                      39\n",
              "1                    15                      81\n",
              "2                    16                       6\n",
              "3                    16                      77\n",
              "4                    17                      40\n",
              "..                  ...                     ...\n",
              "195                 120                      79\n",
              "196                 126                      28\n",
              "197                 126                      74\n",
              "198                 137                      18\n",
              "199                 137                      83\n",
              "\n",
              "[200 rows x 2 columns]"
            ]
          },
          "metadata": {
            "tags": []
          },
          "execution_count": 161
        }
      ]
    },
    {
      "cell_type": "code",
      "metadata": {
        "id": "8Wwq94WYhe5t"
      },
      "source": [
        "from sklearn.cluster import KMeans"
      ],
      "execution_count": 162,
      "outputs": []
    },
    {
      "cell_type": "code",
      "metadata": {
        "id": "FkUSrc1phgF4"
      },
      "source": [
        "#Define the value of K\n",
        "n_clusters = 3"
      ],
      "execution_count": 163,
      "outputs": []
    },
    {
      "cell_type": "code",
      "metadata": {
        "id": "m-JbcIvIIvAL"
      },
      "source": [
        "#Apply K–means clustering\n",
        "kmeans=KMeans(n_clusters=n_clusters,init=\"k-means++\",max_iter=300,n_init=10,random_state=0)"
      ],
      "execution_count": 164,
      "outputs": []
    },
    {
      "cell_type": "code",
      "metadata": {
        "id": "ASXZfv3Ch5Wl",
        "outputId": "d3b58ea5-028e-4843-9b22-86b501693ece",
        "colab": {
          "base_uri": "https://localhost:8080/"
        }
      },
      "source": [
        "y_kmeans=kmeans.fit_predict(x)\n",
        "y_kmeans"
      ],
      "execution_count": 165,
      "outputs": [
        {
          "output_type": "execute_result",
          "data": {
            "text/plain": [
              "array([0, 0, 0, 0, 0, 0, 0, 0, 0, 0, 0, 0, 0, 0, 0, 0, 0, 0, 0, 0, 0, 0,\n",
              "       0, 0, 0, 0, 0, 0, 0, 0, 0, 0, 0, 0, 0, 0, 0, 0, 0, 0, 0, 0, 0, 0,\n",
              "       0, 0, 0, 0, 0, 0, 0, 0, 0, 0, 0, 0, 0, 0, 0, 0, 0, 0, 0, 0, 0, 0,\n",
              "       0, 0, 0, 0, 0, 0, 0, 0, 0, 0, 0, 0, 0, 0, 0, 0, 0, 0, 0, 0, 0, 0,\n",
              "       0, 0, 0, 0, 0, 0, 0, 0, 0, 0, 0, 0, 0, 0, 0, 0, 0, 0, 0, 0, 0, 0,\n",
              "       0, 0, 0, 0, 0, 0, 0, 0, 0, 0, 0, 0, 0, 1, 2, 1, 2, 1, 2, 1, 2, 1,\n",
              "       2, 1, 2, 1, 2, 1, 2, 1, 2, 1, 2, 1, 2, 1, 2, 1, 2, 1, 2, 1, 2, 1,\n",
              "       2, 1, 2, 1, 2, 1, 2, 1, 2, 1, 2, 1, 2, 1, 2, 1, 2, 1, 2, 1, 2, 1,\n",
              "       2, 1, 2, 1, 2, 1, 2, 1, 2, 1, 2, 1, 2, 1, 2, 1, 2, 1, 2, 1, 2, 1,\n",
              "       2, 1], dtype=int32)"
            ]
          },
          "metadata": {
            "tags": []
          },
          "execution_count": 165
        }
      ]
    },
    {
      "cell_type": "code",
      "metadata": {
        "id": "hdbdmAc1IvCb",
        "outputId": "65ce3979-9b6f-4287-edde-e76abd8a2991",
        "colab": {
          "base_uri": "https://localhost:8080/",
          "height": 548
        }
      },
      "source": [
        "#Visualize the clusters\n",
        "x=np.array(x)\n",
        "\n",
        "fig = plt.figure(figsize=(25, 10))\n",
        "plt.scatter(x[y_kmeans == 0, 0], x[y_kmeans == 0, 1], s = 100, c = 'red', label = 'Cluster 1')\n",
        "plt.scatter(x[y_kmeans == 1, 0], x[y_kmeans == 1, 1], s = 100, c = 'blue', label = 'Cluster 2')\n",
        "plt.scatter(x[y_kmeans == 2, 0], x[y_kmeans == 2, 1], s = 100, c = 'green', label = 'Cluster 3')\n",
        "plt.scatter(kmeans.cluster_centers_[:, 0], kmeans.cluster_centers_[:, 1], s = 300, c = 'yellow', label = 'Centroids')\n",
        "plt.title('Clusters of customers')\n",
        "plt.xlabel('Annual Income (k$)')\n",
        "plt.ylabel('Spending Score (1-100)')\n",
        "plt.legend()\n",
        "plt.show()"
      ],
      "execution_count": 166,
      "outputs": [
        {
          "output_type": "display_data",
          "data": {
            "image/png": "[encoded data removed]",
            "text/plain": [
              "<Figure size 1800x720 with 1 Axes>"
            ]
          },
          "metadata": {
            "tags": []
          }
        }
      ]
    },
    {
      "cell_type": "code",
      "metadata": {
        "id": "8bKJ5iLJIvIH"
      },
      "source": [
        "#Obtain the optimal number of clusters by using the Elbow method and visualize the clusters\n",
        "x=data.iloc[:,[2,3]]\n",
        "\n",
        "wcss=[]\n",
        "for i in range (1,11):\n",
        "    kmeans=KMeans(n_clusters=i,init=\"k-means++\",max_iter=300,n_init=10,random_state=0)\n",
        "    kmeans.fit(x)\n",
        "    wcss.append(kmeans.inertia_)"
      ],
      "execution_count": 167,
      "outputs": []
    },
    {
      "cell_type": "code",
      "metadata": {
        "id": "y-Chcg15ir8i",
        "outputId": "558040e0-fe73-4d6b-f1b8-e8007f8b7e52",
        "colab": {
          "base_uri": "https://localhost:8080/",
          "height": 295
        }
      },
      "source": [
        "plt.plot(range(1,11),wcss)\n",
        "plt.xlabel(\"No. of Clusters\")\n",
        "plt.ylabel(\"WCSS\")\n",
        "plt.title(\"Elbow Method\")\n",
        "plt.show()"
      ],
      "execution_count": 168,
      "outputs": [
        {
          "output_type": "display_data",
          "data": {
            "image/png": "[encoded data removed]",
            "text/plain": [
              "<Figure size 432x288 with 1 Axes>"
            ]
          },
          "metadata": {
            "tags": []
          }
        }
      ]
    },
    {
      "cell_type": "markdown",
      "metadata": {
        "id": "M1J-SnJsjB9Y"
      },
      "source": [
        "So the optimal number of clusters = 5"
      ]
    },
    {
      "cell_type": "code",
      "metadata": {
        "id": "E1QwG5pgir_s",
        "outputId": "53f1cc9f-da0b-4610-879c-b8abc1e730a9",
        "colab": {
          "base_uri": "https://localhost:8080/",
          "height": 548
        }
      },
      "source": [
        "# As we can see, 5 is the optimal number of clusters\n",
        "# Applying K-means again\n",
        "kmeans=KMeans(n_clusters=5,init=\"k-means++\",max_iter=300,n_init=10,random_state=0)\n",
        "y_kmeans=kmeans.fit_predict(x)\n",
        "x=np.array(x)\n",
        "\n",
        "fig = plt.figure(figsize=(25, 10))\n",
        "plt.scatter(x[y_kmeans == 0, 0], x[y_kmeans == 0, 1], s = 100, c = 'red', label = 'Cluster 1')\n",
        "plt.scatter(x[y_kmeans == 1, 0], x[y_kmeans == 1, 1], s = 100, c = 'blue', label = 'Cluster 2')\n",
        "plt.scatter(x[y_kmeans == 2, 0], x[y_kmeans == 2, 1], s = 100, c = 'green', label = 'Cluster 3')\n",
        "plt.scatter(x[y_kmeans == 3, 0], x[y_kmeans == 3, 1], s = 100, c = 'cyan', label = 'Cluster 4')\n",
        "plt.scatter(x[y_kmeans == 4, 0], x[y_kmeans == 4, 1], s = 100, c = 'magenta', label = 'Cluster 5')\n",
        "plt.scatter(kmeans.cluster_centers_[:, 0], kmeans.cluster_centers_[:, 1], s = 300, c = 'yellow', label = 'Centroids')\n",
        "plt.title('Clusters of customers')\n",
        "plt.xlabel('Annual Income (k$)')\n",
        "plt.ylabel('Spending Score (1-100)')\n",
        "plt.legend()\n",
        "plt.show()"
      ],
      "execution_count": 169,
      "outputs": [
        {
          "output_type": "display_data",
          "data": {
            "image/png": "[encoded data removed]",
            "text/plain": [
              "<Figure size 1800x720 with 1 Axes>"
            ]
          },
          "metadata": {
            "tags": []
          }
        }
      ]
    },
    {
      "cell_type": "markdown",
      "metadata": {
        "id": "3nLvcBQiI8IT"
      },
      "source": [
        "## Task 2: Hierarchical clustering"
      ]
    },
    {
      "cell_type": "code",
      "metadata": {
        "id": "SwiWS2T8JCmt",
        "outputId": "8af05caf-c2a3-4f19-8b66-240926a604c7",
        "colab": {
          "base_uri": "https://localhost:8080/",
          "height": 196
        }
      },
      "source": [
        "#Obtain the dataset\n",
        "data.head()"
      ],
      "execution_count": 170,
      "outputs": [
        {
          "output_type": "execute_result",
          "data": {
            "text/html": [
              "<div>\n",
              "<style scoped>\n",
              "    .dataframe tbody tr th:only-of-type {\n",
              "        vertical-align: middle;\n",
              "    }\n",
              "\n",
              "    .dataframe tbody tr th {\n",
              "        vertical-align: top;\n",
              "    }\n",
              "\n",
              "    .dataframe thead th {\n",
              "        text-align: right;\n",
              "    }\n",
              "</style>\n",
              "<table border=\"1\" class=\"dataframe\">\n",
              "  <thead>\n",
              "    <tr style=\"text-align: right;\">\n",
              "      <th></th>\n",
              "      <th>Genre</th>\n",
              "      <th>Age</th>\n",
              "      <th>Annual Income (k$)</th>\n",
              "      <th>Spending Score (1-100)</th>\n",
              "    </tr>\n",
              "  </thead>\n",
              "  <tbody>\n",
              "    <tr>\n",
              "      <th>0</th>\n",
              "      <td>Male</td>\n",
              "      <td>19</td>\n",
              "      <td>15</td>\n",
              "      <td>39</td>\n",
              "    </tr>\n",
              "    <tr>\n",
              "      <th>1</th>\n",
              "      <td>Male</td>\n",
              "      <td>21</td>\n",
              "      <td>15</td>\n",
              "      <td>81</td>\n",
              "    </tr>\n",
              "    <tr>\n",
              "      <th>2</th>\n",
              "      <td>Female</td>\n",
              "      <td>20</td>\n",
              "      <td>16</td>\n",
              "      <td>6</td>\n",
              "    </tr>\n",
              "    <tr>\n",
              "      <th>3</th>\n",
              "      <td>Female</td>\n",
              "      <td>23</td>\n",
              "      <td>16</td>\n",
              "      <td>77</td>\n",
              "    </tr>\n",
              "    <tr>\n",
              "      <th>4</th>\n",
              "      <td>Female</td>\n",
              "      <td>31</td>\n",
              "      <td>17</td>\n",
              "      <td>40</td>\n",
              "    </tr>\n",
              "  </tbody>\n",
              "</table>\n",
              "</div>"
            ],
            "text/plain": [
              "    Genre  Age  Annual Income (k$)  Spending Score (1-100)\n",
              "0    Male   19                  15                      39\n",
              "1    Male   21                  15                      81\n",
              "2  Female   20                  16                       6\n",
              "3  Female   23                  16                      77\n",
              "4  Female   31                  17                      40"
            ]
          },
          "metadata": {
            "tags": []
          },
          "execution_count": 170
        }
      ]
    },
    {
      "cell_type": "code",
      "metadata": {
        "id": "KnV7LUrFJDKZ"
      },
      "source": [
        "#Select the potential features for clustering such as Annual Income and Spending Score.\n",
        "x=data.iloc[:,[2,3]]\n",
        "x=np.array(x)"
      ],
      "execution_count": 171,
      "outputs": []
    },
    {
      "cell_type": "code",
      "metadata": {
        "id": "vt5V9rz4j4El"
      },
      "source": [
        "import scipy.cluster.hierarchy as sch"
      ],
      "execution_count": 172,
      "outputs": []
    },
    {
      "cell_type": "code",
      "metadata": {
        "id": "3UIqcf9oJDl_",
        "outputId": "a599cbbc-387c-43f4-c04f-4720f9c22ac0",
        "colab": {
          "base_uri": "https://localhost:8080/",
          "height": 548
        }
      },
      "source": [
        "#Implement dendrogram to obtain the optimal numbers of clusters\n",
        "fig = plt.figure(figsize=(25, 10))\n",
        "dendrogram=sch.dendrogram(sch.linkage(x,method='ward'))\n",
        "plt.title(\"Dendrogram\")\n",
        "plt.xlabel(\"Customers\")\n",
        "plt.ylabel(\"Eucledian distance\")\n",
        "plt.show()"
      ],
      "execution_count": 173,
      "outputs": [
        {
          "output_type": "display_data",
          "data": {
            "image/png": "[encoded data removed]",
            "text/plain": [
              "<Figure size 1800x720 with 1 Axes>"
            ]
          },
          "metadata": {
            "tags": []
          }
        }
      ]
    },
    {
      "cell_type": "code",
      "metadata": {
        "id": "-lDMyr4ckJVQ"
      },
      "source": [
        "from sklearn.cluster import AgglomerativeClustering"
      ],
      "execution_count": 174,
      "outputs": []
    },
    {
      "cell_type": "code",
      "metadata": {
        "id": "K2wbpLz9JDaW"
      },
      "source": [
        "#Apply hierarchical clustering on the data\n",
        "hc=AgglomerativeClustering(n_clusters=5,affinity=\"euclidean\",linkage=\"ward\")"
      ],
      "execution_count": 175,
      "outputs": []
    },
    {
      "cell_type": "code",
      "metadata": {
        "id": "Fg4UnnN_kP1D",
        "outputId": "dff5c9a4-80f3-4ca5-8263-fffe32b3a3d6",
        "colab": {
          "base_uri": "https://localhost:8080/"
        }
      },
      "source": [
        "y_hc=hc.fit_predict(x)\n",
        "y_hc"
      ],
      "execution_count": 176,
      "outputs": [
        {
          "output_type": "execute_result",
          "data": {
            "text/plain": [
              "array([4, 3, 4, 3, 4, 3, 4, 3, 4, 3, 4, 3, 4, 3, 4, 3, 4, 3, 4, 3, 4, 3,\n",
              "       4, 3, 4, 3, 4, 3, 4, 3, 4, 3, 4, 3, 4, 3, 4, 3, 4, 3, 4, 3, 4, 1,\n",
              "       4, 1, 1, 1, 1, 1, 1, 1, 1, 1, 1, 1, 1, 1, 1, 1, 1, 1, 1, 1, 1, 1,\n",
              "       1, 1, 1, 1, 1, 1, 1, 1, 1, 1, 1, 1, 1, 1, 1, 1, 1, 1, 1, 1, 1, 1,\n",
              "       1, 1, 1, 1, 1, 1, 1, 1, 1, 1, 1, 1, 1, 1, 1, 1, 1, 1, 1, 1, 1, 1,\n",
              "       1, 1, 1, 1, 1, 1, 1, 1, 1, 1, 1, 1, 1, 2, 1, 2, 1, 2, 0, 2, 0, 2,\n",
              "       1, 2, 0, 2, 0, 2, 0, 2, 0, 2, 1, 2, 0, 2, 1, 2, 0, 2, 0, 2, 0, 2,\n",
              "       0, 2, 0, 2, 0, 2, 1, 2, 0, 2, 0, 2, 0, 2, 0, 2, 0, 2, 0, 2, 0, 2,\n",
              "       0, 2, 0, 2, 0, 2, 0, 2, 0, 2, 0, 2, 0, 2, 0, 2, 0, 2, 0, 2, 0, 2,\n",
              "       0, 2])"
            ]
          },
          "metadata": {
            "tags": []
          },
          "execution_count": 176
        }
      ]
    },
    {
      "cell_type": "code",
      "metadata": {
        "id": "j-9MP96kJEHk",
        "outputId": "efa28714-0611-4f47-b4c6-70bebdf2eb00",
        "colab": {
          "base_uri": "https://localhost:8080/",
          "height": 548
        }
      },
      "source": [
        "#Visualize the clusters\n",
        "fig = plt.figure(figsize=(25, 10))\n",
        "plt.scatter(x[y_hc == 0, 0], x[y_hc == 0, 1], s = 100, c = 'red', label = 'Cluster 1')\n",
        "plt.scatter(x[y_hc == 1, 0], x[y_hc == 1, 1], s = 100, c = 'blue', label = 'Cluster 2')\n",
        "plt.scatter(x[y_hc == 2, 0], x[y_hc == 2, 1], s = 100, c = 'green', label = 'Cluster 3')\n",
        "plt.scatter(x[y_hc == 3, 0], x[y_hc == 3, 1], s = 100, c = 'cyan', label = 'Cluster 4')\n",
        "plt.scatter(x[y_hc == 4, 0], x[y_hc == 4, 1], s = 100, c = 'magenta', label = 'Cluster 5')\n",
        "plt.title('Clusters of customers')\n",
        "plt.xlabel('Annual Income (k$)')\n",
        "plt.ylabel('Spending Score (1-100)')\n",
        "plt.legend()\n",
        "plt.show()"
      ],
      "execution_count": 177,
      "outputs": [
        {
          "output_type": "display_data",
          "data": {
            "image/png": "[encoded data removed]",
            "text/plain": [
              "<Figure size 1800x720 with 1 Axes>"
            ]
          },
          "metadata": {
            "tags": []
          }
        }
      ]
    },
    {
      "cell_type": "markdown",
      "metadata": {
        "id": "Bir07xbCJRTM"
      },
      "source": [
        "## Task 3: DBSCAN"
      ]
    },
    {
      "cell_type": "code",
      "metadata": {
        "id": "YemAvAUSJUNb"
      },
      "source": [
        "#Load the dataset\n",
        "df = pd.read_csv(\"CC GENERAL.csv\")"
      ],
      "execution_count": 178,
      "outputs": []
    },
    {
      "cell_type": "code",
      "metadata": {
        "id": "HJCriwwkJbtn"
      },
      "source": [
        "#Drop customer ID from the dataset\n",
        "df.drop(\"CUST_ID\", axis=1, inplace=True)"
      ],
      "execution_count": 179,
      "outputs": []
    },
    {
      "cell_type": "code",
      "metadata": {
        "id": "I1GyQmH-k9Br",
        "outputId": "ba8b27f4-bc4a-4cf4-fc82-843e91f8c238",
        "colab": {
          "base_uri": "https://localhost:8080/"
        }
      },
      "source": [
        "df.shape"
      ],
      "execution_count": 180,
      "outputs": [
        {
          "output_type": "execute_result",
          "data": {
            "text/plain": [
              "(8950, 17)"
            ]
          },
          "metadata": {
            "tags": []
          },
          "execution_count": 180
        }
      ]
    },
    {
      "cell_type": "code",
      "metadata": {
        "id": "-WXtv07wk_H2",
        "outputId": "50fe7b7e-ba95-4968-dcf9-6f73e8d39b89",
        "colab": {
          "base_uri": "https://localhost:8080/"
        }
      },
      "source": [
        "df.info()"
      ],
      "execution_count": 181,
      "outputs": [
        {
          "output_type": "stream",
          "text": [
            "<class 'pandas.core.frame.DataFrame'>\n",
            "RangeIndex: 8950 entries, 0 to 8949\n",
            "Data columns (total 17 columns):\n",
            " #   Column                            Non-Null Count  Dtype  \n",
            "---  ------                            --------------  -----  \n",
            " 0   BALANCE                           8950 non-null   float64\n",
            " 1   BALANCE_FREQUENCY                 8950 non-null   float64\n",
            " 2   PURCHASES                         8950 non-null   float64\n",
            " 3   ONEOFF_PURCHASES                  8950 non-null   float64\n",
            " 4   INSTALLMENTS_PURCHASES            8950 non-null   float64\n",
            " 5   CASH_ADVANCE                      8950 non-null   float64\n",
            " 6   PURCHASES_FREQUENCY               8950 non-null   float64\n",
            " 7   ONEOFF_PURCHASES_FREQUENCY        8950 non-null   float64\n",
            " 8   PURCHASES_INSTALLMENTS_FREQUENCY  8950 non-null   float64\n",
            " 9   CASH_ADVANCE_FREQUENCY            8950 non-null   float64\n",
            " 10  CASH_ADVANCE_TRX                  8950 non-null   int64  \n",
            " 11  PURCHASES_TRX                     8950 non-null   int64  \n",
            " 12  CREDIT_LIMIT                      8949 non-null   float64\n",
            " 13  PAYMENTS                          8950 non-null   float64\n",
            " 14  MINIMUM_PAYMENTS                  8637 non-null   float64\n",
            " 15  PRC_FULL_PAYMENT                  8950 non-null   float64\n",
            " 16  TENURE                            8950 non-null   int64  \n",
            "dtypes: float64(14), int64(3)\n",
            "memory usage: 1.2 MB\n"
          ],
          "name": "stdout"
        }
      ]
    },
    {
      "cell_type": "code",
      "metadata": {
        "id": "Z3eD-P5hJbxG",
        "outputId": "5b2e14a2-5f83-43ef-ebc6-8118e8c74cdf",
        "colab": {
          "base_uri": "https://localhost:8080/"
        }
      },
      "source": [
        "#Handle missing values\n",
        "df.isnull().sum().sort_values(ascending=False).head()"
      ],
      "execution_count": 182,
      "outputs": [
        {
          "output_type": "execute_result",
          "data": {
            "text/plain": [
              "MINIMUM_PAYMENTS       313\n",
              "CREDIT_LIMIT             1\n",
              "TENURE                   0\n",
              "PURCHASES_FREQUENCY      0\n",
              "BALANCE_FREQUENCY        0\n",
              "dtype: int64"
            ]
          },
          "metadata": {
            "tags": []
          },
          "execution_count": 182
        }
      ]
    },
    {
      "cell_type": "code",
      "metadata": {
        "id": "a_LB6qVxlKhm"
      },
      "source": [
        "df.MINIMUM_PAYMENTS  = df.MINIMUM_PAYMENTS.fillna(df.MINIMUM_PAYMENTS.mean()) \n",
        "df.CREDIT_LIMIT      = df.CREDIT_LIMIT.fillna(df.CREDIT_LIMIT.mean()) "
      ],
      "execution_count": 183,
      "outputs": []
    },
    {
      "cell_type": "code",
      "metadata": {
        "id": "l854v7FYlOq-",
        "outputId": "3db2427d-187f-4aee-dbec-a588b22d549c",
        "colab": {
          "base_uri": "https://localhost:8080/"
        }
      },
      "source": [
        "df.isnull().sum().sort_values(ascending=False).head()"
      ],
      "execution_count": 184,
      "outputs": [
        {
          "output_type": "execute_result",
          "data": {
            "text/plain": [
              "TENURE                        0\n",
              "ONEOFF_PURCHASES_FREQUENCY    0\n",
              "BALANCE_FREQUENCY             0\n",
              "PURCHASES                     0\n",
              "ONEOFF_PURCHASES              0\n",
              "dtype: int64"
            ]
          },
          "metadata": {
            "tags": []
          },
          "execution_count": 184
        }
      ]
    },
    {
      "cell_type": "code",
      "metadata": {
        "id": "ukP1mZJ1lSyf",
        "outputId": "82a167c6-faa1-4f65-a052-b8aa437acd11",
        "colab": {
          "base_uri": "https://localhost:8080/",
          "height": 216
        }
      },
      "source": [
        "df.head()"
      ],
      "execution_count": 185,
      "outputs": [
        {
          "output_type": "execute_result",
          "data": {
            "text/html": [
              "<div>\n",
              "<style scoped>\n",
              "    .dataframe tbody tr th:only-of-type {\n",
              "        vertical-align: middle;\n",
              "    }\n",
              "\n",
              "    .dataframe tbody tr th {\n",
              "        vertical-align: top;\n",
              "    }\n",
              "\n",
              "    .dataframe thead th {\n",
              "        text-align: right;\n",
              "    }\n",
              "</style>\n",
              "<table border=\"1\" class=\"dataframe\">\n",
              "  <thead>\n",
              "    <tr style=\"text-align: right;\">\n",
              "      <th></th>\n",
              "      <th>BALANCE</th>\n",
              "      <th>BALANCE_FREQUENCY</th>\n",
              "      <th>PURCHASES</th>\n",
              "      <th>ONEOFF_PURCHASES</th>\n",
              "      <th>INSTALLMENTS_PURCHASES</th>\n",
              "      <th>CASH_ADVANCE</th>\n",
              "      <th>PURCHASES_FREQUENCY</th>\n",
              "      <th>ONEOFF_PURCHASES_FREQUENCY</th>\n",
              "      <th>PURCHASES_INSTALLMENTS_FREQUENCY</th>\n",
              "      <th>CASH_ADVANCE_FREQUENCY</th>\n",
              "      <th>CASH_ADVANCE_TRX</th>\n",
              "      <th>PURCHASES_TRX</th>\n",
              "      <th>CREDIT_LIMIT</th>\n",
              "      <th>PAYMENTS</th>\n",
              "      <th>MINIMUM_PAYMENTS</th>\n",
              "      <th>PRC_FULL_PAYMENT</th>\n",
              "      <th>TENURE</th>\n",
              "    </tr>\n",
              "  </thead>\n",
              "  <tbody>\n",
              "    <tr>\n",
              "      <th>0</th>\n",
              "      <td>40.900749</td>\n",
              "      <td>0.818182</td>\n",
              "      <td>95.40</td>\n",
              "      <td>0.00</td>\n",
              "      <td>95.4</td>\n",
              "      <td>0.000000</td>\n",
              "      <td>0.166667</td>\n",
              "      <td>0.000000</td>\n",
              "      <td>0.083333</td>\n",
              "      <td>0.000000</td>\n",
              "      <td>0</td>\n",
              "      <td>2</td>\n",
              "      <td>1000.0</td>\n",
              "      <td>201.802084</td>\n",
              "      <td>139.509787</td>\n",
              "      <td>0.000000</td>\n",
              "      <td>12</td>\n",
              "    </tr>\n",
              "    <tr>\n",
              "      <th>1</th>\n",
              "      <td>3202.467416</td>\n",
              "      <td>0.909091</td>\n",
              "      <td>0.00</td>\n",
              "      <td>0.00</td>\n",
              "      <td>0.0</td>\n",
              "      <td>6442.945483</td>\n",
              "      <td>0.000000</td>\n",
              "      <td>0.000000</td>\n",
              "      <td>0.000000</td>\n",
              "      <td>0.250000</td>\n",
              "      <td>4</td>\n",
              "      <td>0</td>\n",
              "      <td>7000.0</td>\n",
              "      <td>4103.032597</td>\n",
              "      <td>1072.340217</td>\n",
              "      <td>0.222222</td>\n",
              "      <td>12</td>\n",
              "    </tr>\n",
              "    <tr>\n",
              "      <th>2</th>\n",
              "      <td>2495.148862</td>\n",
              "      <td>1.000000</td>\n",
              "      <td>773.17</td>\n",
              "      <td>773.17</td>\n",
              "      <td>0.0</td>\n",
              "      <td>0.000000</td>\n",
              "      <td>1.000000</td>\n",
              "      <td>1.000000</td>\n",
              "      <td>0.000000</td>\n",
              "      <td>0.000000</td>\n",
              "      <td>0</td>\n",
              "      <td>12</td>\n",
              "      <td>7500.0</td>\n",
              "      <td>622.066742</td>\n",
              "      <td>627.284787</td>\n",
              "      <td>0.000000</td>\n",
              "      <td>12</td>\n",
              "    </tr>\n",
              "    <tr>\n",
              "      <th>3</th>\n",
              "      <td>1666.670542</td>\n",
              "      <td>0.636364</td>\n",
              "      <td>1499.00</td>\n",
              "      <td>1499.00</td>\n",
              "      <td>0.0</td>\n",
              "      <td>205.788017</td>\n",
              "      <td>0.083333</td>\n",
              "      <td>0.083333</td>\n",
              "      <td>0.000000</td>\n",
              "      <td>0.083333</td>\n",
              "      <td>1</td>\n",
              "      <td>1</td>\n",
              "      <td>7500.0</td>\n",
              "      <td>0.000000</td>\n",
              "      <td>864.206542</td>\n",
              "      <td>0.000000</td>\n",
              "      <td>12</td>\n",
              "    </tr>\n",
              "    <tr>\n",
              "      <th>4</th>\n",
              "      <td>817.714335</td>\n",
              "      <td>1.000000</td>\n",
              "      <td>16.00</td>\n",
              "      <td>16.00</td>\n",
              "      <td>0.0</td>\n",
              "      <td>0.000000</td>\n",
              "      <td>0.083333</td>\n",
              "      <td>0.083333</td>\n",
              "      <td>0.000000</td>\n",
              "      <td>0.000000</td>\n",
              "      <td>0</td>\n",
              "      <td>1</td>\n",
              "      <td>1200.0</td>\n",
              "      <td>678.334763</td>\n",
              "      <td>244.791237</td>\n",
              "      <td>0.000000</td>\n",
              "      <td>12</td>\n",
              "    </tr>\n",
              "  </tbody>\n",
              "</table>\n",
              "</div>"
            ],
            "text/plain": [
              "       BALANCE  BALANCE_FREQUENCY  ...  PRC_FULL_PAYMENT  TENURE\n",
              "0    40.900749           0.818182  ...          0.000000      12\n",
              "1  3202.467416           0.909091  ...          0.222222      12\n",
              "2  2495.148862           1.000000  ...          0.000000      12\n",
              "3  1666.670542           0.636364  ...          0.000000      12\n",
              "4   817.714335           1.000000  ...          0.000000      12\n",
              "\n",
              "[5 rows x 17 columns]"
            ]
          },
          "metadata": {
            "tags": []
          },
          "execution_count": 185
        }
      ]
    },
    {
      "cell_type": "code",
      "metadata": {
        "id": "Q7YmZ7x3lZXF"
      },
      "source": [
        "from sklearn.preprocessing import StandardScaler"
      ],
      "execution_count": 186,
      "outputs": []
    },
    {
      "cell_type": "code",
      "metadata": {
        "id": "0eSpSVq8Jb0d"
      },
      "source": [
        "#Apply data pre-processing techniques\n",
        "scaler = StandardScaler()\n",
        "df[:] = scaler.fit_transform(df[:])"
      ],
      "execution_count": 187,
      "outputs": []
    },
    {
      "cell_type": "code",
      "metadata": {
        "id": "-GxrQETRmdG6",
        "outputId": "98f6f859-4679-4c7e-b03b-7b79a8ef00db",
        "colab": {
          "base_uri": "https://localhost:8080/",
          "height": 216
        }
      },
      "source": [
        "df.head()"
      ],
      "execution_count": 188,
      "outputs": [
        {
          "output_type": "execute_result",
          "data": {
            "text/html": [
              "<div>\n",
              "<style scoped>\n",
              "    .dataframe tbody tr th:only-of-type {\n",
              "        vertical-align: middle;\n",
              "    }\n",
              "\n",
              "    .dataframe tbody tr th {\n",
              "        vertical-align: top;\n",
              "    }\n",
              "\n",
              "    .dataframe thead th {\n",
              "        text-align: right;\n",
              "    }\n",
              "</style>\n",
              "<table border=\"1\" class=\"dataframe\">\n",
              "  <thead>\n",
              "    <tr style=\"text-align: right;\">\n",
              "      <th></th>\n",
              "      <th>BALANCE</th>\n",
              "      <th>BALANCE_FREQUENCY</th>\n",
              "      <th>PURCHASES</th>\n",
              "      <th>ONEOFF_PURCHASES</th>\n",
              "      <th>INSTALLMENTS_PURCHASES</th>\n",
              "      <th>CASH_ADVANCE</th>\n",
              "      <th>PURCHASES_FREQUENCY</th>\n",
              "      <th>ONEOFF_PURCHASES_FREQUENCY</th>\n",
              "      <th>PURCHASES_INSTALLMENTS_FREQUENCY</th>\n",
              "      <th>CASH_ADVANCE_FREQUENCY</th>\n",
              "      <th>CASH_ADVANCE_TRX</th>\n",
              "      <th>PURCHASES_TRX</th>\n",
              "      <th>CREDIT_LIMIT</th>\n",
              "      <th>PAYMENTS</th>\n",
              "      <th>MINIMUM_PAYMENTS</th>\n",
              "      <th>PRC_FULL_PAYMENT</th>\n",
              "      <th>TENURE</th>\n",
              "    </tr>\n",
              "  </thead>\n",
              "  <tbody>\n",
              "    <tr>\n",
              "      <th>0</th>\n",
              "      <td>-0.731989</td>\n",
              "      <td>-0.249434</td>\n",
              "      <td>-0.424900</td>\n",
              "      <td>-0.356934</td>\n",
              "      <td>-0.349079</td>\n",
              "      <td>-0.466786</td>\n",
              "      <td>-0.806490</td>\n",
              "      <td>-0.678661</td>\n",
              "      <td>-0.707313</td>\n",
              "      <td>-0.675349</td>\n",
              "      <td>-0.476070</td>\n",
              "      <td>-0.511333</td>\n",
              "      <td>-0.960433</td>\n",
              "      <td>-0.528979</td>\n",
              "      <td>-3.109675e-01</td>\n",
              "      <td>-0.525551</td>\n",
              "      <td>0.36068</td>\n",
              "    </tr>\n",
              "    <tr>\n",
              "      <th>1</th>\n",
              "      <td>0.786961</td>\n",
              "      <td>0.134325</td>\n",
              "      <td>-0.469552</td>\n",
              "      <td>-0.356934</td>\n",
              "      <td>-0.454576</td>\n",
              "      <td>2.605605</td>\n",
              "      <td>-1.221758</td>\n",
              "      <td>-0.678661</td>\n",
              "      <td>-0.916995</td>\n",
              "      <td>0.573963</td>\n",
              "      <td>0.110074</td>\n",
              "      <td>-0.591796</td>\n",
              "      <td>0.688639</td>\n",
              "      <td>0.818642</td>\n",
              "      <td>8.931021e-02</td>\n",
              "      <td>0.234227</td>\n",
              "      <td>0.36068</td>\n",
              "    </tr>\n",
              "    <tr>\n",
              "      <th>2</th>\n",
              "      <td>0.447135</td>\n",
              "      <td>0.518084</td>\n",
              "      <td>-0.107668</td>\n",
              "      <td>0.108889</td>\n",
              "      <td>-0.454576</td>\n",
              "      <td>-0.466786</td>\n",
              "      <td>1.269843</td>\n",
              "      <td>2.673451</td>\n",
              "      <td>-0.916995</td>\n",
              "      <td>-0.675349</td>\n",
              "      <td>-0.476070</td>\n",
              "      <td>-0.109020</td>\n",
              "      <td>0.826062</td>\n",
              "      <td>-0.383805</td>\n",
              "      <td>-1.016632e-01</td>\n",
              "      <td>-0.525551</td>\n",
              "      <td>0.36068</td>\n",
              "    </tr>\n",
              "    <tr>\n",
              "      <th>3</th>\n",
              "      <td>0.049099</td>\n",
              "      <td>-1.016953</td>\n",
              "      <td>0.232058</td>\n",
              "      <td>0.546189</td>\n",
              "      <td>-0.454576</td>\n",
              "      <td>-0.368653</td>\n",
              "      <td>-1.014125</td>\n",
              "      <td>-0.399319</td>\n",
              "      <td>-0.916995</td>\n",
              "      <td>-0.258913</td>\n",
              "      <td>-0.329534</td>\n",
              "      <td>-0.551565</td>\n",
              "      <td>0.826062</td>\n",
              "      <td>-0.598688</td>\n",
              "      <td>-5.366135e-16</td>\n",
              "      <td>-0.525551</td>\n",
              "      <td>0.36068</td>\n",
              "    </tr>\n",
              "    <tr>\n",
              "      <th>4</th>\n",
              "      <td>-0.358775</td>\n",
              "      <td>0.518084</td>\n",
              "      <td>-0.462063</td>\n",
              "      <td>-0.347294</td>\n",
              "      <td>-0.454576</td>\n",
              "      <td>-0.466786</td>\n",
              "      <td>-1.014125</td>\n",
              "      <td>-0.399319</td>\n",
              "      <td>-0.916995</td>\n",
              "      <td>-0.675349</td>\n",
              "      <td>-0.476070</td>\n",
              "      <td>-0.551565</td>\n",
              "      <td>-0.905464</td>\n",
              "      <td>-0.364368</td>\n",
              "      <td>-2.657913e-01</td>\n",
              "      <td>-0.525551</td>\n",
              "      <td>0.36068</td>\n",
              "    </tr>\n",
              "  </tbody>\n",
              "</table>\n",
              "</div>"
            ],
            "text/plain": [
              "    BALANCE  BALANCE_FREQUENCY  ...  PRC_FULL_PAYMENT   TENURE\n",
              "0 -0.731989          -0.249434  ...         -0.525551  0.36068\n",
              "1  0.786961           0.134325  ...          0.234227  0.36068\n",
              "2  0.447135           0.518084  ...         -0.525551  0.36068\n",
              "3  0.049099          -1.016953  ...         -0.525551  0.36068\n",
              "4 -0.358775           0.518084  ...         -0.525551  0.36068\n",
              "\n",
              "[5 rows x 17 columns]"
            ]
          },
          "metadata": {
            "tags": []
          },
          "execution_count": 188
        }
      ]
    },
    {
      "cell_type": "code",
      "metadata": {
        "id": "wiYnmp3AmqZ3",
        "outputId": "0fc84a70-eeb5-4e1d-c5ac-77dde897b89e",
        "colab": {
          "base_uri": "https://localhost:8080/"
        }
      },
      "source": [
        "df.shape"
      ],
      "execution_count": 189,
      "outputs": [
        {
          "output_type": "execute_result",
          "data": {
            "text/plain": [
              "(8950, 17)"
            ]
          },
          "metadata": {
            "tags": []
          },
          "execution_count": 189
        }
      ]
    },
    {
      "cell_type": "code",
      "metadata": {
        "id": "5pxu6lu1Jb33"
      },
      "source": [
        "# Reducing the dimensionality of the data by using PCA\n",
        "from sklearn.decomposition import PCA\n",
        "pca = PCA(n_components=10)\n",
        "principalComponents = pca.fit_transform(df)\n",
        "df_pca = pd.DataFrame(data = principalComponents)"
      ],
      "execution_count": 190,
      "outputs": []
    },
    {
      "cell_type": "code",
      "metadata": {
        "id": "c_BSyoP4m7W1",
        "outputId": "c54751de-02e2-429c-e61e-2d38319f5009",
        "colab": {
          "base_uri": "https://localhost:8080/",
          "height": 404
        }
      },
      "source": [
        "df_pca"
      ],
      "execution_count": 191,
      "outputs": [
        {
          "output_type": "execute_result",
          "data": {
            "text/html": [
              "<div>\n",
              "<style scoped>\n",
              "    .dataframe tbody tr th:only-of-type {\n",
              "        vertical-align: middle;\n",
              "    }\n",
              "\n",
              "    .dataframe tbody tr th {\n",
              "        vertical-align: top;\n",
              "    }\n",
              "\n",
              "    .dataframe thead th {\n",
              "        text-align: right;\n",
              "    }\n",
              "</style>\n",
              "<table border=\"1\" class=\"dataframe\">\n",
              "  <thead>\n",
              "    <tr style=\"text-align: right;\">\n",
              "      <th></th>\n",
              "      <th>0</th>\n",
              "      <th>1</th>\n",
              "      <th>2</th>\n",
              "      <th>3</th>\n",
              "      <th>4</th>\n",
              "      <th>5</th>\n",
              "      <th>6</th>\n",
              "      <th>7</th>\n",
              "      <th>8</th>\n",
              "      <th>9</th>\n",
              "    </tr>\n",
              "  </thead>\n",
              "  <tbody>\n",
              "    <tr>\n",
              "      <th>0</th>\n",
              "      <td>-1.682220</td>\n",
              "      <td>-1.076451</td>\n",
              "      <td>0.488507</td>\n",
              "      <td>0.665552</td>\n",
              "      <td>0.018225</td>\n",
              "      <td>0.050629</td>\n",
              "      <td>0.829144</td>\n",
              "      <td>-0.039303</td>\n",
              "      <td>0.115340</td>\n",
              "      <td>-0.077774</td>\n",
              "    </tr>\n",
              "    <tr>\n",
              "      <th>1</th>\n",
              "      <td>-1.138295</td>\n",
              "      <td>2.506477</td>\n",
              "      <td>0.601212</td>\n",
              "      <td>-0.120437</td>\n",
              "      <td>0.605803</td>\n",
              "      <td>-1.136841</td>\n",
              "      <td>-0.374507</td>\n",
              "      <td>0.132411</td>\n",
              "      <td>0.687878</td>\n",
              "      <td>-0.777671</td>\n",
              "    </tr>\n",
              "    <tr>\n",
              "      <th>2</th>\n",
              "      <td>0.969684</td>\n",
              "      <td>-0.383520</td>\n",
              "      <td>0.102371</td>\n",
              "      <td>1.209266</td>\n",
              "      <td>-2.172584</td>\n",
              "      <td>-0.217222</td>\n",
              "      <td>-1.573258</td>\n",
              "      <td>-0.169548</td>\n",
              "      <td>-0.883727</td>\n",
              "      <td>-0.001939</td>\n",
              "    </tr>\n",
              "    <tr>\n",
              "      <th>3</th>\n",
              "      <td>-0.873628</td>\n",
              "      <td>0.043166</td>\n",
              "      <td>1.460167</td>\n",
              "      <td>1.151980</td>\n",
              "      <td>0.295632</td>\n",
              "      <td>-0.123689</td>\n",
              "      <td>-0.280759</td>\n",
              "      <td>-0.559099</td>\n",
              "      <td>-0.146564</td>\n",
              "      <td>0.393144</td>\n",
              "    </tr>\n",
              "    <tr>\n",
              "      <th>4</th>\n",
              "      <td>-1.599434</td>\n",
              "      <td>-0.688581</td>\n",
              "      <td>0.365094</td>\n",
              "      <td>0.990232</td>\n",
              "      <td>-0.487039</td>\n",
              "      <td>0.075060</td>\n",
              "      <td>0.707923</td>\n",
              "      <td>0.208399</td>\n",
              "      <td>0.584619</td>\n",
              "      <td>-0.121734</td>\n",
              "    </tr>\n",
              "    <tr>\n",
              "      <th>...</th>\n",
              "      <td>...</td>\n",
              "      <td>...</td>\n",
              "      <td>...</td>\n",
              "      <td>...</td>\n",
              "      <td>...</td>\n",
              "      <td>...</td>\n",
              "      <td>...</td>\n",
              "      <td>...</td>\n",
              "      <td>...</td>\n",
              "      <td>...</td>\n",
              "    </tr>\n",
              "    <tr>\n",
              "      <th>8945</th>\n",
              "      <td>-0.359629</td>\n",
              "      <td>-2.016145</td>\n",
              "      <td>-0.995355</td>\n",
              "      <td>-2.727433</td>\n",
              "      <td>0.268860</td>\n",
              "      <td>2.673305</td>\n",
              "      <td>-1.523465</td>\n",
              "      <td>0.201213</td>\n",
              "      <td>1.420524</td>\n",
              "      <td>-0.845404</td>\n",
              "    </tr>\n",
              "    <tr>\n",
              "      <th>8946</th>\n",
              "      <td>-0.564369</td>\n",
              "      <td>-1.639123</td>\n",
              "      <td>-1.290238</td>\n",
              "      <td>-1.860551</td>\n",
              "      <td>0.187104</td>\n",
              "      <td>3.384215</td>\n",
              "      <td>-1.083192</td>\n",
              "      <td>-0.554112</td>\n",
              "      <td>0.886695</td>\n",
              "      <td>-1.246153</td>\n",
              "    </tr>\n",
              "    <tr>\n",
              "      <th>8947</th>\n",
              "      <td>-0.926204</td>\n",
              "      <td>-1.810786</td>\n",
              "      <td>-0.474723</td>\n",
              "      <td>-2.280239</td>\n",
              "      <td>0.386553</td>\n",
              "      <td>2.976948</td>\n",
              "      <td>-1.369823</td>\n",
              "      <td>-0.345934</td>\n",
              "      <td>0.838190</td>\n",
              "      <td>-0.830005</td>\n",
              "    </tr>\n",
              "    <tr>\n",
              "      <th>8948</th>\n",
              "      <td>-2.336552</td>\n",
              "      <td>-0.657966</td>\n",
              "      <td>0.974725</td>\n",
              "      <td>-1.861279</td>\n",
              "      <td>0.069779</td>\n",
              "      <td>3.174380</td>\n",
              "      <td>-0.930511</td>\n",
              "      <td>0.148077</td>\n",
              "      <td>1.253573</td>\n",
              "      <td>0.268660</td>\n",
              "    </tr>\n",
              "    <tr>\n",
              "      <th>8949</th>\n",
              "      <td>-0.556422</td>\n",
              "      <td>-0.400467</td>\n",
              "      <td>1.015196</td>\n",
              "      <td>-1.953237</td>\n",
              "      <td>-1.243000</td>\n",
              "      <td>3.753291</td>\n",
              "      <td>-1.414096</td>\n",
              "      <td>-0.376473</td>\n",
              "      <td>-0.822080</td>\n",
              "      <td>0.345744</td>\n",
              "    </tr>\n",
              "  </tbody>\n",
              "</table>\n",
              "<p>8950 rows × 10 columns</p>\n",
              "</div>"
            ],
            "text/plain": [
              "             0         1         2  ...         7         8         9\n",
              "0    -1.682220 -1.076451  0.488507  ... -0.039303  0.115340 -0.077774\n",
              "1    -1.138295  2.506477  0.601212  ...  0.132411  0.687878 -0.777671\n",
              "2     0.969684 -0.383520  0.102371  ... -0.169548 -0.883727 -0.001939\n",
              "3    -0.873628  0.043166  1.460167  ... -0.559099 -0.146564  0.393144\n",
              "4    -1.599434 -0.688581  0.365094  ...  0.208399  0.584619 -0.121734\n",
              "...        ...       ...       ...  ...       ...       ...       ...\n",
              "8945 -0.359629 -2.016145 -0.995355  ...  0.201213  1.420524 -0.845404\n",
              "8946 -0.564369 -1.639123 -1.290238  ... -0.554112  0.886695 -1.246153\n",
              "8947 -0.926204 -1.810786 -0.474723  ... -0.345934  0.838190 -0.830005\n",
              "8948 -2.336552 -0.657966  0.974725  ...  0.148077  1.253573  0.268660\n",
              "8949 -0.556422 -0.400467  1.015196  ... -0.376473 -0.822080  0.345744\n",
              "\n",
              "[8950 rows x 10 columns]"
            ]
          },
          "metadata": {
            "tags": []
          },
          "execution_count": 191
        }
      ]
    },
    {
      "cell_type": "code",
      "metadata": {
        "id": "d_iuDFDvntRr"
      },
      "source": [
        "from sklearn.cluster import DBSCAN"
      ],
      "execution_count": 192,
      "outputs": []
    },
    {
      "cell_type": "code",
      "metadata": {
        "id": "RJmLM9XiJb69"
      },
      "source": [
        "#Build DBSCAN model\n",
        "df_pca = np.array(df_pca)\n",
        "db = DBSCAN(eps=0.3, min_samples=20).fit(df_pca) \n",
        "core_samples_mask = np.zeros_like(db.labels_, dtype=bool) \n",
        "core_samples_mask[db.core_sample_indices_] = True\n",
        "labels = db.labels_ "
      ],
      "execution_count": 195,
      "outputs": []
    },
    {
      "cell_type": "code",
      "metadata": {
        "id": "_WHaZRKnreCk",
        "outputId": "f21fb6d7-1b05-41bc-b3c0-d989d0952d43",
        "colab": {
          "base_uri": "https://localhost:8080/"
        }
      },
      "source": [
        "n_clusters_ = len(set(labels)) - (1 if -1 in labels else 0) \n",
        "print(labels) \n",
        "n_clusters"
      ],
      "execution_count": 196,
      "outputs": [
        {
          "output_type": "stream",
          "text": [
            "[-1 -1 -1 ... -1 -1 -1]\n"
          ],
          "name": "stdout"
        },
        {
          "output_type": "execute_result",
          "data": {
            "text/plain": [
              "3"
            ]
          },
          "metadata": {
            "tags": []
          },
          "execution_count": 196
        }
      ]
    },
    {
      "cell_type": "code",
      "metadata": {
        "id": "S_DssRhTJb-h",
        "outputId": "293e97da-5b9e-4eea-f175-9d49e4b53752",
        "colab": {
          "base_uri": "https://localhost:8080/",
          "height": 281
        }
      },
      "source": [
        "unique_labels = set(labels) \n",
        "colors = ['b','g','r'] \n",
        "for k, col in zip(unique_labels, colors): \n",
        "    if k == -1: \n",
        "        col = 'k'\n",
        "    class_member_mask = (labels == k) \n",
        "    xy = df_pca[class_member_mask & core_samples_mask] \n",
        "    plt.plot(xy[:, 0], xy[:, 1], 'o', markerfacecolor=col, \n",
        "                                      markeredgecolor='k',  \n",
        "                                      markersize=6) \n",
        "    xy = df_pca[class_member_mask & ~core_samples_mask] \n",
        "    plt.plot(xy[:, 0], xy[:, 1], 'o', markerfacecolor=col, \n",
        "                                      markeredgecolor='k', \n",
        "                                      markersize=6) \n",
        "plt.title('number of clusters: %d' %n_clusters_) \n",
        "plt.show() "
      ],
      "execution_count": 198,
      "outputs": [
        {
          "output_type": "display_data",
          "data": {
            "image/png": "[encoded data removed]",
            "text/plain": [
              "<Figure size 432x288 with 1 Axes>"
            ]
          },
          "metadata": {
            "tags": []
          }
        }
      ]
    },
    {
      "cell_type": "code",
      "metadata": {
        "id": "KsKk89zqJcCB"
      },
      "source": [
        "#Tune the parameters of DBSCAN\n",
        "def dbscan(a, b):\n",
        "  db = DBSCAN(eps=a, min_samples=b).fit(df_pca) \n",
        "  core_samples_mask = np.zeros_like(db.labels_, dtype=bool) \n",
        "  core_samples_mask[db.core_sample_indices_] = True\n",
        "  labels = db.labels_ \n",
        "  print(len(set(labels)) - (1 if -1 in labels else 0))"
      ],
      "execution_count": 201,
      "outputs": []
    },
    {
      "cell_type": "code",
      "metadata": {
        "id": "QzdPG7OXuOe7",
        "outputId": "6f0460f4-c113-42a7-f813-c93cb587b5e3",
        "colab": {
          "base_uri": "https://localhost:8080/"
        }
      },
      "source": [
        "dbscan(0.3, 10)\n",
        "dbscan(0.5, 15)\n",
        "dbscan(0.7, 20)\n",
        "dbscan(0.3, 15)\n",
        "dbscan(0.3, 20)\n",
        "dbscan(0.5, 10)"
      ],
      "execution_count": 202,
      "outputs": [
        {
          "output_type": "stream",
          "text": [
            "15\n",
            "7\n",
            "8\n",
            "6\n",
            "3\n",
            "13\n"
          ],
          "name": "stdout"
        }
      ]
    },
    {
      "cell_type": "markdown",
      "metadata": {
        "id": "x6zp9kbCJoW0"
      },
      "source": [
        "## Optional (not included in evaluation)"
      ]
    },
    {
      "cell_type": "code",
      "metadata": {
        "id": "2_QNz_mqJsTy"
      },
      "source": [
        "#\tMeasure the performance using adjusted_rand_score. \n"
      ],
      "execution_count": null,
      "outputs": []
    },
    {
      "cell_type": "code",
      "metadata": {
        "id": "3ZC2ezFEJwOc"
      },
      "source": [
        "#\tApply improved versions of k-means and DBSCAN algorithms\n"
      ],
      "execution_count": null,
      "outputs": []
    }
  ]
}